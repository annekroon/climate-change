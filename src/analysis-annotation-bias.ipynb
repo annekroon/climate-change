{
 "cells": [
  {
   "cell_type": "markdown",
   "id": "cefd682b",
   "metadata": {},
   "source": [
    "# Analysis for Climate Discourse paper\n",
    "\n",
    "This notebook contains the analysis for the 'substantive' paper"
   ]
  },
  {
   "cell_type": "code",
   "execution_count": 104,
   "id": "bf1ba5ed",
   "metadata": {},
   "outputs": [],
   "source": [
    "import pandas as pd\n",
    "\n",
    "import numpy as np\n",
    "import pingouin as pg\n",
    "import numpy as np\n",
    "import matplotlib.pyplot as plt\n",
    "import seaborn as sns\n",
    "\n",
    "import statsmodels.api as sm\n",
    "import statsmodels.formula.api as smf\n"
   ]
  },
  {
   "cell_type": "markdown",
   "id": "6770a52a",
   "metadata": {},
   "source": [
    "# Dataset overview and datawrangling"
   ]
  },
  {
   "cell_type": "code",
   "execution_count": 105,
   "id": "2e1eac07",
   "metadata": {},
   "outputs": [],
   "source": [
    "df = pd.read_csv('../data/annotations/twitter_klimaat_discussie_coderingen.csv')"
   ]
  },
  {
   "cell_type": "code",
   "execution_count": 9,
   "id": "fc2f5ccc",
   "metadata": {},
   "outputs": [],
   "source": [
    "## number of unique annotators:"
   ]
  },
  {
   "cell_type": "code",
   "execution_count": 52,
   "id": "81483994",
   "metadata": {
    "scrolled": true
   },
   "outputs": [
    {
     "data": {
      "text/plain": [
       "1517"
      ]
     },
     "execution_count": 52,
     "metadata": {},
     "output_type": "execute_result"
    }
   ],
   "source": [
    "len(df['coder_id'].unique())"
   ]
  },
  {
   "cell_type": "code",
   "execution_count": 14,
   "id": "32c90d10",
   "metadata": {},
   "outputs": [
    {
     "data": {
      "text/plain": [
       "<Axes: >"
      ]
     },
     "execution_count": 14,
     "metadata": {},
     "output_type": "execute_result"
    },
    {
     "data": {
      "image/png": "[encoded data removed]",
      "text/plain": [
       "<Figure size 640x480 with 1 Axes>"
      ]
     },
     "metadata": {},
     "output_type": "display_data"
    }
   ],
   "source": [
    "df['scientific_consensus.pro_klimaat'].hist()"
   ]
  },
  {
   "cell_type": "code",
   "execution_count": 57,
   "id": "67386e89",
   "metadata": {},
   "outputs": [
    {
     "data": {
      "text/plain": [
       "comment_inhoudelijk_argument\n",
       "Inhoudelijk argument         21588\n",
       "Geen inhoudelijk argument    21556\n",
       "Neutraal                        15\n",
       "Ja                              15\n",
       "Nee                              7\n",
       "Name: count, dtype: int64"
      ]
     },
     "execution_count": 57,
     "metadata": {},
     "output_type": "execute_result"
    }
   ],
   "source": [
    "df['comment_inhoudelijk_argument'].value_counts()\n",
    "#df.info()"
   ]
  },
  {
   "cell_type": "markdown",
   "id": "a2c19b51",
   "metadata": {},
   "source": [
    "# FOR NOW: \n",
    "\n",
    "## Remove Neutral/ Ja / Nee --> NOT SURE WHAT TO DO WITH THIS"
   ]
  },
  {
   "cell_type": "code",
   "execution_count": 106,
   "id": "b0b31cdd",
   "metadata": {},
   "outputs": [
    {
     "data": {
      "text/plain": [
       "comment_inhoudelijk_argument\n",
       "Inhoudelijk argument         21588\n",
       "Geen inhoudelijk argument    21556\n",
       "Name: count, dtype: int64"
      ]
     },
     "execution_count": 106,
     "metadata": {},
     "output_type": "execute_result"
    }
   ],
   "source": [
    "values_to_drop = ['Neutraal', 'Ja', 'Nee']\n",
    "df = df[~df['comment_inhoudelijk_argument'].isin(values_to_drop)]\n",
    "df['comment_inhoudelijk_argument'].value_counts()"
   ]
  },
  {
   "cell_type": "markdown",
   "id": "6fbfeadf",
   "metadata": {},
   "source": [
    "## Remove missing obs"
   ]
  },
  {
   "cell_type": "code",
   "execution_count": 107,
   "id": "ae5401f0",
   "metadata": {},
   "outputs": [
    {
     "name": "stdout",
     "output_type": "stream",
     "text": [
      "43145\n",
      "42744\n"
     ]
    }
   ],
   "source": [
    "print(len(df))\n",
    "df = df.dropna(subset=['scientific_consensus.pro_klimaat'])\n",
    "df = df.dropna(subset=['age'])\n",
    "df = df.dropna(subset=['gender'])\n",
    "df = df.dropna(subset=['comment_respectvol'])\n",
    "print(len(df))"
   ]
  },
  {
   "cell_type": "code",
   "execution_count": 108,
   "id": "9f258978",
   "metadata": {},
   "outputs": [
    {
     "data": {
      "text/plain": [
       "1504"
      ]
     },
     "execution_count": 108,
     "metadata": {},
     "output_type": "execute_result"
    }
   ],
   "source": [
    "len(df['coder_id'].unique())"
   ]
  },
  {
   "cell_type": "code",
   "execution_count": 65,
   "id": "08cce6ca",
   "metadata": {},
   "outputs": [
    {
     "name": "stdout",
     "output_type": "stream",
     "text": [
      "<class 'pandas.core.frame.DataFrame'>\n",
      "Index: 42744 entries, 0 to 43181\n",
      "Data columns (total 18 columns):\n",
      " #   Column                                     Non-Null Count  Dtype  \n",
      "---  ------                                     --------------  -----  \n",
      " 0   coder_id                                   42744 non-null  int64  \n",
      " 1   jobset                                     42744 non-null  object \n",
      " 2   scientific_consensus.pro_klimaat           42744 non-null  float64\n",
      " 3   scientific_consensus.belangrijk_onderwerp  42744 non-null  float64\n",
      " 4   scientific_consensus.sterke_mening         42744 non-null  float64\n",
      " 5   scientific_consensus.interesse_klimaat     42744 non-null  float64\n",
      " 6   age                                        42744 non-null  float64\n",
      " 7   gender                                     42744 non-null  object \n",
      " 8   education                                  42744 non-null  object \n",
      " 9   workhours                                  42744 non-null  object \n",
      " 10  tweet_id                                   42744 non-null  int64  \n",
      " 11  tweet_pro_klimaat                          42744 non-null  object \n",
      " 12  comment_nr                                 42744 non-null  int64  \n",
      " 13  comment_pro_klimaat                        42744 non-null  object \n",
      " 14  comment_inhoudelijk_argument               42744 non-null  object \n",
      " 15  comment_persoonlijke_aanval                42744 non-null  object \n",
      " 16  comment_over_communicatie                  42744 non-null  object \n",
      " 17  comment_respectvol                         42744 non-null  object \n",
      "dtypes: float64(5), int64(3), object(10)\n",
      "memory usage: 6.2+ MB\n"
     ]
    }
   ],
   "source": [
    "df.info()"
   ]
  },
  {
   "cell_type": "markdown",
   "id": "744fbe9a",
   "metadata": {},
   "source": [
    "## Internal consistency of the *issue importance* scale"
   ]
  },
  {
   "cell_type": "code",
   "execution_count": 109,
   "id": "a086cc42",
   "metadata": {},
   "outputs": [
    {
     "data": {
      "text/plain": [
       "(0.8076223379196215, array([0.79 , 0.824]))"
      ]
     },
     "execution_count": 109,
     "metadata": {},
     "output_type": "execute_result"
    }
   ],
   "source": [
    "# Specify the columns for which you want to calculate Cronbach's alpha\n",
    "selected_columns = ['scientific_consensus.belangrijk_onderwerp',\n",
    "                    'scientific_consensus.sterke_mening',\n",
    "                    'scientific_consensus.interesse_klimaat']\n",
    "\n",
    "# Group by 'coder_id' and calculate Cronbach's alpha for selected columns\n",
    "grouped_data = df.groupby('coder_id')[selected_columns].first()\n",
    "\n",
    "# Calculate Cronbach's alpha for the selected columns\n",
    "alpha_result = pg.cronbach_alpha(grouped_data)\n",
    "alpha_result"
   ]
  },
  {
   "cell_type": "code",
   "execution_count": 110,
   "id": "3f045203",
   "metadata": {},
   "outputs": [],
   "source": [
    "# Create a new column 'average_score' that contains the average of the specified columns\n",
    "df['scale_importance'] = df[selected_columns].mean(axis=1)\n",
    "# Display the result"
   ]
  },
  {
   "cell_type": "code",
   "execution_count": 111,
   "id": "f0502587",
   "metadata": {},
   "outputs": [
    {
     "data": {
      "text/plain": [
       "comment_pro_klimaat\n",
       "Nee         15229\n",
       "Ja          15011\n",
       "Neutraal    12504\n",
       "Name: count, dtype: int64"
      ]
     },
     "execution_count": 111,
     "metadata": {},
     "output_type": "execute_result"
    }
   ],
   "source": [
    "#df[df['tweet_pro_klimaat'] == 'Eens']\n",
    "df['comment_pro_klimaat'].value_counts()"
   ]
  },
  {
   "cell_type": "code",
   "execution_count": 112,
   "id": "47ac8f50",
   "metadata": {},
   "outputs": [
    {
     "data": {
      "text/plain": [
       "gender\n",
       "Vrouw                        22345\n",
       "Man                          20105\n",
       "Non-binary                     184\n",
       "Wil ik liever niet zeggen      110\n",
       "Name: count, dtype: int64"
      ]
     },
     "execution_count": 112,
     "metadata": {},
     "output_type": "execute_result"
    }
   ],
   "source": [
    "df['gender'].value_counts()"
   ]
  },
  {
   "cell_type": "code",
   "execution_count": 113,
   "id": "1f3b9dfb",
   "metadata": {},
   "outputs": [
    {
     "data": {
      "text/plain": [
       "comment_respectvol\n",
       "Eens      29334\n",
       "Oneens    13410\n",
       "Name: count, dtype: int64"
      ]
     },
     "execution_count": 113,
     "metadata": {},
     "output_type": "execute_result"
    }
   ],
   "source": [
    "df['comment_respectvol'].value_counts()"
   ]
  },
  {
   "cell_type": "markdown",
   "id": "b9de8b10",
   "metadata": {},
   "source": [
    "## recoding variables"
   ]
  },
  {
   "cell_type": "code",
   "execution_count": 114,
   "id": "9c91089e",
   "metadata": {},
   "outputs": [
    {
     "data": {
      "text/html": [
       "<div>\n",
       "<style scoped>\n",
       "    .dataframe tbody tr th:only-of-type {\n",
       "        vertical-align: middle;\n",
       "    }\n",
       "\n",
       "    .dataframe tbody tr th {\n",
       "        vertical-align: top;\n",
       "    }\n",
       "\n",
       "    .dataframe thead th {\n",
       "        text-align: right;\n",
       "    }\n",
       "</style>\n",
       "<table border=\"1\" class=\"dataframe\">\n",
       "  <thead>\n",
       "    <tr style=\"text-align: right;\">\n",
       "      <th></th>\n",
       "      <th>coder_id</th>\n",
       "      <th>comment_pro_klimaat</th>\n",
       "      <th>comment_pro_klimaat_Ja</th>\n",
       "      <th>comment_pro_klimaat_Nee</th>\n",
       "    </tr>\n",
       "  </thead>\n",
       "  <tbody>\n",
       "    <tr>\n",
       "      <th>0</th>\n",
       "      <td>11</td>\n",
       "      <td>Ja</td>\n",
       "      <td>1</td>\n",
       "      <td>0</td>\n",
       "    </tr>\n",
       "    <tr>\n",
       "      <th>1</th>\n",
       "      <td>11</td>\n",
       "      <td>Ja</td>\n",
       "      <td>1</td>\n",
       "      <td>0</td>\n",
       "    </tr>\n",
       "    <tr>\n",
       "      <th>2</th>\n",
       "      <td>11</td>\n",
       "      <td>Ja</td>\n",
       "      <td>1</td>\n",
       "      <td>0</td>\n",
       "    </tr>\n",
       "    <tr>\n",
       "      <th>3</th>\n",
       "      <td>11</td>\n",
       "      <td>Neutraal</td>\n",
       "      <td>0</td>\n",
       "      <td>0</td>\n",
       "    </tr>\n",
       "    <tr>\n",
       "      <th>4</th>\n",
       "      <td>11</td>\n",
       "      <td>Neutraal</td>\n",
       "      <td>0</td>\n",
       "      <td>0</td>\n",
       "    </tr>\n",
       "    <tr>\n",
       "      <th>5</th>\n",
       "      <td>11</td>\n",
       "      <td>Neutraal</td>\n",
       "      <td>0</td>\n",
       "      <td>0</td>\n",
       "    </tr>\n",
       "  </tbody>\n",
       "</table>\n",
       "</div>"
      ],
      "text/plain": [
       "   coder_id comment_pro_klimaat  comment_pro_klimaat_Ja   \n",
       "0        11                  Ja                       1  \\\n",
       "1        11                  Ja                       1   \n",
       "2        11                  Ja                       1   \n",
       "3        11            Neutraal                       0   \n",
       "4        11            Neutraal                       0   \n",
       "5        11            Neutraal                       0   \n",
       "\n",
       "   comment_pro_klimaat_Nee  \n",
       "0                        0  \n",
       "1                        0  \n",
       "2                        0  \n",
       "3                        0  \n",
       "4                        0  \n",
       "5                        0  "
      ]
     },
     "execution_count": 114,
     "metadata": {},
     "output_type": "execute_result"
    }
   ],
   "source": [
    "# Create two dummy variables for 'comment_pro_klimaat'\n",
    "dummy_variables = pd.get_dummies(df['comment_pro_klimaat'], prefix='comment_pro_klimaat')\n",
    "dummy_variables = dummy_variables.astype(int)\n",
    "df = pd.concat([df, dummy_variables], axis=1)\n",
    "\n",
    "df[['coder_id', 'comment_pro_klimaat', 'comment_pro_klimaat_Ja', 'comment_pro_klimaat_Nee']]. head(6)"
   ]
  },
  {
   "cell_type": "code",
   "execution_count": 115,
   "id": "91515820",
   "metadata": {},
   "outputs": [],
   "source": [
    "df['tweet_pro_klimaat'].value_counts()\n",
    "\n",
    "recode_mapping = {'Eens': 'Ja', 'Oneens': 'Nee'}\n",
    "\n",
    "# Recode 'tweet_pro_klimaat'\n",
    "df['tweet_pro_klimaat'] = df['tweet_pro_klimaat'].replace(recode_mapping)\n",
    "\n",
    "dummy_variables = pd.get_dummies(df['tweet_pro_klimaat'], prefix='tweet_pro_klimaat')\n",
    "dummy_variables = dummy_variables.astype(int)\n",
    "df = pd.concat([df, dummy_variables], axis=1)"
   ]
  },
  {
   "cell_type": "code",
   "execution_count": 116,
   "id": "e670a6c9",
   "metadata": {},
   "outputs": [],
   "source": [
    "# Create two dummy variables for 'comment_pro_klimaat'\n",
    "dummy_variables = pd.get_dummies(df['comment_respectvol'], prefix='comment_respectvol')\n",
    "dummy_variables = dummy_variables.astype(int)\n",
    "df = pd.concat([df, dummy_variables], axis=1)"
   ]
  },
  {
   "cell_type": "code",
   "execution_count": 117,
   "id": "023fe6a5",
   "metadata": {},
   "outputs": [],
   "source": [
    "df['coder_id'] = df['coder_id'].astype(str)"
   ]
  },
  {
   "cell_type": "code",
   "execution_count": 118,
   "id": "d91673c2",
   "metadata": {},
   "outputs": [],
   "source": [
    "# Mapping of categories to two groups\n",
    "gender_mapping = {\n",
    "    'Vrouw': 'Female',\n",
    "    'Man': 'Male',\n",
    "    'Non-binary': 'Other',\n",
    "    'Wil ik liever niet zeggen': 'Other'\n",
    "}\n",
    "\n",
    "df['recoded_gender'] = df['gender'].map(gender_mapping)\n",
    "\n",
    "df['male_dummy'] = (df['recoded_gender'] == 'Male').astype(int)\n",
    "df['female_dummy'] = (df['recoded_gender'] == 'Female').astype(int)"
   ]
  },
  {
   "cell_type": "code",
   "execution_count": 119,
   "id": "1e95a901",
   "metadata": {},
   "outputs": [],
   "source": [
    "df['comment_inhoudelijk_argument_Ja'] = (df['comment_inhoudelijk_argument'] == 'Inhoudelijk argument').astype(int)"
   ]
  },
  {
   "cell_type": "code",
   "execution_count": 120,
   "id": "2648f49a",
   "metadata": {},
   "outputs": [],
   "source": [
    "education_mapping = {\n",
    "    'Voorbereidend of kort middelbaar beroepsonderwijs (VMBO, KMBO)': 'Lager',\n",
    "    'Hoger beroepsonderwijs (HBO, HTS, HEAO, Sociale Academie, HHNO, lerarenonderwijs, etc.': 'Hoger',\n",
    "    'Middelbaar beroepsonderwijs (MBO, MTS, MEAO, Praktijkdiploma Boekhouden, Kleuterkweekschool, etc.': 'Lager',\n",
    "    'Anders': 'Lager',\n",
    "    'Wetenschappelijk onderwijs (universiteit)': 'Hoger',\n",
    "    'Voortgezet algemeen onderwijs (5-jaar HBS, MMS, HAVO, Lyceum, Atheneum, Gymnasium, VWO, etc.': 'Lager',\n",
    "    'Lager beroepsonderwijs (LBO, LTS, LHNO, huishoud-/ambachts-school, LEAO, lage land-en tuinbouwonderwijs etc.)': 'Lager',\n",
    "    'Middelbaar algemeen onderwijs (LAVO, ULO, MULO, MAVO, 3-jaar HBS, etc)': 'Lager',\n",
    "    'Lagere school (basisonderwijs)': 'Lager',\n",
    "    'Geen onderwijs of niet afgemaakt': 'Lager'\n",
    "}\n",
    "\n",
    "# Recode 'education' into a new column 'recoded_education'\n",
    "df['recoded_education'] = df['education'].map(education_mapping)\n",
    "df['recoded_education_hoger'] = (df['recoded_gender'] == 'Hoger').astype(int)"
   ]
  },
  {
   "cell_type": "code",
   "execution_count": 121,
   "id": "c17cc1bd",
   "metadata": {},
   "outputs": [
    {
     "data": {
      "text/html": [
       "<div>\n",
       "<style scoped>\n",
       "    .dataframe tbody tr th:only-of-type {\n",
       "        vertical-align: middle;\n",
       "    }\n",
       "\n",
       "    .dataframe tbody tr th {\n",
       "        vertical-align: top;\n",
       "    }\n",
       "\n",
       "    .dataframe thead th {\n",
       "        text-align: right;\n",
       "    }\n",
       "</style>\n",
       "<table border=\"1\" class=\"dataframe\">\n",
       "  <thead>\n",
       "    <tr style=\"text-align: right;\">\n",
       "      <th></th>\n",
       "      <th>tweet_id</th>\n",
       "      <th>jobset</th>\n",
       "      <th>comment_nr</th>\n",
       "    </tr>\n",
       "  </thead>\n",
       "  <tbody>\n",
       "    <tr>\n",
       "      <th>0</th>\n",
       "      <td>22</td>\n",
       "      <td>set_3</td>\n",
       "      <td>1</td>\n",
       "    </tr>\n",
       "    <tr>\n",
       "      <th>1</th>\n",
       "      <td>22</td>\n",
       "      <td>set_3</td>\n",
       "      <td>2</td>\n",
       "    </tr>\n",
       "    <tr>\n",
       "      <th>2</th>\n",
       "      <td>22</td>\n",
       "      <td>set_3</td>\n",
       "      <td>3</td>\n",
       "    </tr>\n",
       "    <tr>\n",
       "      <th>3</th>\n",
       "      <td>22</td>\n",
       "      <td>set_3</td>\n",
       "      <td>4</td>\n",
       "    </tr>\n",
       "    <tr>\n",
       "      <th>4</th>\n",
       "      <td>22</td>\n",
       "      <td>set_3</td>\n",
       "      <td>5</td>\n",
       "    </tr>\n",
       "    <tr>\n",
       "      <th>5</th>\n",
       "      <td>24</td>\n",
       "      <td>set_3</td>\n",
       "      <td>1</td>\n",
       "    </tr>\n",
       "    <tr>\n",
       "      <th>6</th>\n",
       "      <td>24</td>\n",
       "      <td>set_3</td>\n",
       "      <td>2</td>\n",
       "    </tr>\n",
       "    <tr>\n",
       "      <th>7</th>\n",
       "      <td>24</td>\n",
       "      <td>set_3</td>\n",
       "      <td>3</td>\n",
       "    </tr>\n",
       "    <tr>\n",
       "      <th>8</th>\n",
       "      <td>24</td>\n",
       "      <td>set_3</td>\n",
       "      <td>4</td>\n",
       "    </tr>\n",
       "    <tr>\n",
       "      <th>9</th>\n",
       "      <td>24</td>\n",
       "      <td>set_3</td>\n",
       "      <td>5</td>\n",
       "    </tr>\n",
       "  </tbody>\n",
       "</table>\n",
       "</div>"
      ],
      "text/plain": [
       "   tweet_id jobset  comment_nr\n",
       "0        22  set_3           1\n",
       "1        22  set_3           2\n",
       "2        22  set_3           3\n",
       "3        22  set_3           4\n",
       "4        22  set_3           5\n",
       "5        24  set_3           1\n",
       "6        24  set_3           2\n",
       "7        24  set_3           3\n",
       "8        24  set_3           4\n",
       "9        24  set_3           5"
      ]
     },
     "execution_count": 121,
     "metadata": {},
     "output_type": "execute_result"
    }
   ],
   "source": [
    "df[['tweet_id', 'jobset', 'comment_nr']].head(10)"
   ]
  },
  {
   "cell_type": "code",
   "execution_count": 122,
   "id": "5db1d066",
   "metadata": {},
   "outputs": [],
   "source": [
    "df['scientific_consensus_pro_klimaat'] = df['scientific_consensus.pro_klimaat']"
   ]
  },
  {
   "cell_type": "markdown",
   "id": "0d8ae4af",
   "metadata": {},
   "source": [
    "## RUnning some models"
   ]
  },
  {
   "cell_type": "code",
   "execution_count": 123,
   "id": "faf561ac",
   "metadata": {},
   "outputs": [
    {
     "name": "stderr",
     "output_type": "stream",
     "text": [
      "/Users/anne/Library/Python/3.9/lib/python/site-packages/statsmodels/base/model.py:604: ConvergenceWarning: Maximum Likelihood optimization failed to converge. Check mle_retvals\n",
      "  warnings.warn(\"Maximum Likelihood optimization failed to \"\n",
      "/Users/anne/Library/Python/3.9/lib/python/site-packages/statsmodels/regression/mixed_linear_model.py:2200: ConvergenceWarning: Retrying MixedLM optimization with lbfgs\n",
      "  warnings.warn(\n",
      "/Users/anne/Library/Python/3.9/lib/python/site-packages/statsmodels/base/model.py:604: ConvergenceWarning: Maximum Likelihood optimization failed to converge. Check mle_retvals\n",
      "  warnings.warn(\"Maximum Likelihood optimization failed to \"\n",
      "/Users/anne/Library/Python/3.9/lib/python/site-packages/statsmodels/regression/mixed_linear_model.py:2200: ConvergenceWarning: Retrying MixedLM optimization with cg\n",
      "  warnings.warn(\n",
      "/Users/anne/Library/Python/3.9/lib/python/site-packages/statsmodels/base/model.py:604: ConvergenceWarning: Maximum Likelihood optimization failed to converge. Check mle_retvals\n",
      "  warnings.warn(\"Maximum Likelihood optimization failed to \"\n",
      "/Users/anne/Library/Python/3.9/lib/python/site-packages/statsmodels/regression/mixed_linear_model.py:2206: ConvergenceWarning: MixedLM optimization failed, trying a different optimizer may help.\n",
      "  warnings.warn(msg, ConvergenceWarning)\n",
      "/Users/anne/Library/Python/3.9/lib/python/site-packages/statsmodels/regression/mixed_linear_model.py:2218: ConvergenceWarning: Gradient optimization failed, |grad| = 241790.538330\n",
      "  warnings.warn(msg, ConvergenceWarning)\n",
      "/Users/anne/Library/Python/3.9/lib/python/site-packages/statsmodels/regression/mixed_linear_model.py:2237: ConvergenceWarning: The MLE may be on the boundary of the parameter space.\n",
      "  warnings.warn(msg, ConvergenceWarning)\n"
     ]
    },
    {
     "name": "stdout",
     "output_type": "stream",
     "text": [
      "                   Mixed Linear Model Regression Results\n",
      "============================================================================\n",
      "Model:               MixedLM   Dependent Variable:   comment_pro_klimaat_Nee\n",
      "No. Observations:    42744     Method:               REML                   \n",
      "No. Groups:          1504      Scale:                0.1639                 \n",
      "Min. group size:     15        Log-Likelihood:       -24708.8286            \n",
      "Max. group size:     34        Converged:            No                     \n",
      "Mean group size:     28.4                                                   \n",
      "----------------------------------------------------------------------------\n",
      "                                 Coef.  Std.Err.    z    P>|z| [0.025 0.975]\n",
      "----------------------------------------------------------------------------\n",
      "Intercept                         0.493    0.061   8.144 0.000  0.374  0.612\n",
      "recoded_education[T.Lager]       -0.063    0.023  -2.729 0.006 -0.108 -0.018\n",
      "age                               0.002    0.001   2.660 0.008  0.000  0.003\n",
      "male_dummy                        0.008    0.022   0.350 0.726 -0.036  0.051\n",
      "scale_importance                 -0.030    0.012  -2.470 0.013 -0.054 -0.006\n",
      "scientific_consensus_pro_klimaat  0.006    0.010   0.591 0.555 -0.014  0.026\n",
      "comment_respectvol_Eens          -0.112    0.005 -23.907 0.000 -0.121 -0.102\n",
      "comment_nr                        0.002    0.001   1.875 0.061 -0.000  0.004\n",
      "Group Var                         0.167                                     \n",
      "Group x tweet_id Cov             -0.000                                     \n",
      "tweet_id Var                      0.000                                     \n",
      "============================================================================\n",
      "\n"
     ]
    },
    {
     "name": "stderr",
     "output_type": "stream",
     "text": [
      "/Users/anne/Library/Python/3.9/lib/python/site-packages/statsmodels/regression/mixed_linear_model.py:2261: ConvergenceWarning: The Hessian matrix at the estimated parameter values is not positive definite.\n",
      "  warnings.warn(msg, ConvergenceWarning)\n"
     ]
    }
   ],
   "source": [
    "import pandas as pd\n",
    "import statsmodels.api as sm\n",
    "import statsmodels.formula.api as smf\n",
    "\n",
    "\n",
    "# Fit a logistic mixed-effects regression model\n",
    "formula = 'comment_pro_klimaat_Nee ~ age + male_dummy + recoded_education + scale_importance + scientific_consensus_pro_klimaat + comment_respectvol_Eens + comment_nr'\n",
    "model = smf.mixedlm(formula, df, groups=df['coder_id'], re_formula='1 + tweet_id')\n",
    "result = model.fit()\n",
    "\n",
    "# Display the model summary\n",
    "print(result.summary())"
   ]
  },
  {
   "cell_type": "code",
   "execution_count": 124,
   "id": "02b37626",
   "metadata": {},
   "outputs": [
    {
     "name": "stderr",
     "output_type": "stream",
     "text": [
      "/Users/anne/Library/Python/3.9/lib/python/site-packages/statsmodels/base/model.py:604: ConvergenceWarning: Maximum Likelihood optimization failed to converge. Check mle_retvals\n",
      "  warnings.warn(\"Maximum Likelihood optimization failed to \"\n",
      "/Users/anne/Library/Python/3.9/lib/python/site-packages/statsmodels/regression/mixed_linear_model.py:2200: ConvergenceWarning: Retrying MixedLM optimization with lbfgs\n",
      "  warnings.warn(\n",
      "/Users/anne/Library/Python/3.9/lib/python/site-packages/statsmodels/regression/mixed_linear_model.py:2237: ConvergenceWarning: The MLE may be on the boundary of the parameter space.\n",
      "  warnings.warn(msg, ConvergenceWarning)\n"
     ]
    },
    {
     "name": "stdout",
     "output_type": "stream",
     "text": [
      "                               Mixed Linear Model Regression Results\n",
      "===================================================================================================\n",
      "Model:                      MixedLM           Dependent Variable:           comment_respectvol_Eens\n",
      "No. Observations:           42744             Method:                       REML                   \n",
      "No. Groups:                 1504              Scale:                        0.1762                 \n",
      "Min. group size:            15                Log-Likelihood:               -25409.7395            \n",
      "Max. group size:            34                Converged:                    Yes                    \n",
      "Mean group size:            28.4                                                                   \n",
      "---------------------------------------------------------------------------------------------------\n",
      "                                                         Coef.  Std.Err.   z    P>|z| [0.025 0.975]\n",
      "---------------------------------------------------------------------------------------------------\n",
      "Intercept                                                 0.673    0.037 18.208 0.000  0.601  0.746\n",
      "recoded_education[T.Lager]                               -0.031    0.013 -2.280 0.023 -0.057 -0.004\n",
      "age                                                       0.000    0.000  0.083 0.934 -0.001  0.001\n",
      "male_dummy                                                0.020    0.013  1.564 0.118 -0.005  0.046\n",
      "scale_importance                                          0.000    0.007  0.029 0.976 -0.014  0.014\n",
      "scientific_consensus_pro_klimaat                          0.011    0.006  1.861 0.063 -0.001  0.023\n",
      "comment_pro_klimaat_Nee                                  -0.063    0.018 -3.611 0.000 -0.098 -0.029\n",
      "scientific_consensus_pro_klimaat:comment_pro_klimaat_Nee -0.010    0.003 -3.235 0.001 -0.016 -0.004\n",
      "comment_nr                                               -0.001    0.001 -0.803 0.422 -0.003  0.001\n",
      "Group Var                                                 0.175                                    \n",
      "Group x tweet_id Cov                                     -0.000                                    \n",
      "tweet_id Var                                              0.000                                    \n",
      "===================================================================================================\n",
      "\n"
     ]
    }
   ],
   "source": [
    "# Fit a logistic mixed-effects regression model\n",
    "formula = 'comment_respectvol_Eens ~ age + male_dummy + recoded_education + scale_importance + scientific_consensus_pro_klimaat * comment_pro_klimaat_Nee + comment_nr'\n",
    "model = smf.mixedlm(formula, df, groups=df['coder_id'], re_formula='1 + tweet_id')\n",
    "result = model.fit()\n",
    "\n",
    "# Display the model summary\n",
    "print(result.summary())"
   ]
  },
  {
   "cell_type": "code",
   "execution_count": 125,
   "id": "4d2cb9d2",
   "metadata": {},
   "outputs": [
    {
     "data": {
      "text/html": [
       "<div>\n",
       "<style scoped>\n",
       "    .dataframe tbody tr th:only-of-type {\n",
       "        vertical-align: middle;\n",
       "    }\n",
       "\n",
       "    .dataframe tbody tr th {\n",
       "        vertical-align: top;\n",
       "    }\n",
       "\n",
       "    .dataframe thead th {\n",
       "        text-align: right;\n",
       "    }\n",
       "</style>\n",
       "<table border=\"1\" class=\"dataframe\">\n",
       "  <thead>\n",
       "    <tr style=\"text-align: right;\">\n",
       "      <th></th>\n",
       "      <th>comment_pro_klimaat_Ja</th>\n",
       "      <th>comment_pro_klimaat</th>\n",
       "    </tr>\n",
       "  </thead>\n",
       "  <tbody>\n",
       "    <tr>\n",
       "      <th>0</th>\n",
       "      <td>1</td>\n",
       "      <td>Ja</td>\n",
       "    </tr>\n",
       "    <tr>\n",
       "      <th>1</th>\n",
       "      <td>1</td>\n",
       "      <td>Ja</td>\n",
       "    </tr>\n",
       "    <tr>\n",
       "      <th>2</th>\n",
       "      <td>1</td>\n",
       "      <td>Ja</td>\n",
       "    </tr>\n",
       "    <tr>\n",
       "      <th>3</th>\n",
       "      <td>0</td>\n",
       "      <td>Neutraal</td>\n",
       "    </tr>\n",
       "    <tr>\n",
       "      <th>4</th>\n",
       "      <td>0</td>\n",
       "      <td>Neutraal</td>\n",
       "    </tr>\n",
       "    <tr>\n",
       "      <th>...</th>\n",
       "      <td>...</td>\n",
       "      <td>...</td>\n",
       "    </tr>\n",
       "    <tr>\n",
       "      <th>43177</th>\n",
       "      <td>0</td>\n",
       "      <td>Nee</td>\n",
       "    </tr>\n",
       "    <tr>\n",
       "      <th>43178</th>\n",
       "      <td>0</td>\n",
       "      <td>Nee</td>\n",
       "    </tr>\n",
       "    <tr>\n",
       "      <th>43179</th>\n",
       "      <td>0</td>\n",
       "      <td>Nee</td>\n",
       "    </tr>\n",
       "    <tr>\n",
       "      <th>43180</th>\n",
       "      <td>0</td>\n",
       "      <td>Nee</td>\n",
       "    </tr>\n",
       "    <tr>\n",
       "      <th>43181</th>\n",
       "      <td>0</td>\n",
       "      <td>Nee</td>\n",
       "    </tr>\n",
       "  </tbody>\n",
       "</table>\n",
       "<p>42744 rows × 2 columns</p>\n",
       "</div>"
      ],
      "text/plain": [
       "       comment_pro_klimaat_Ja comment_pro_klimaat\n",
       "0                           1                  Ja\n",
       "1                           1                  Ja\n",
       "2                           1                  Ja\n",
       "3                           0            Neutraal\n",
       "4                           0            Neutraal\n",
       "...                       ...                 ...\n",
       "43177                       0                 Nee\n",
       "43178                       0                 Nee\n",
       "43179                       0                 Nee\n",
       "43180                       0                 Nee\n",
       "43181                       0                 Nee\n",
       "\n",
       "[42744 rows x 2 columns]"
      ]
     },
     "execution_count": 125,
     "metadata": {},
     "output_type": "execute_result"
    }
   ],
   "source": [
    "df[['comment_pro_klimaat_Ja', 'comment_pro_klimaat']]"
   ]
  },
  {
   "cell_type": "code",
   "execution_count": 126,
   "id": "cf66b042",
   "metadata": {},
   "outputs": [
    {
     "name": "stderr",
     "output_type": "stream",
     "text": [
      "/Users/anne/Library/Python/3.9/lib/python/site-packages/statsmodels/base/model.py:604: ConvergenceWarning: Maximum Likelihood optimization failed to converge. Check mle_retvals\n",
      "  warnings.warn(\"Maximum Likelihood optimization failed to \"\n",
      "/Users/anne/Library/Python/3.9/lib/python/site-packages/statsmodels/regression/mixed_linear_model.py:2200: ConvergenceWarning: Retrying MixedLM optimization with lbfgs\n",
      "  warnings.warn(\n",
      "/Users/anne/Library/Python/3.9/lib/python/site-packages/statsmodels/regression/mixed_linear_model.py:2237: ConvergenceWarning: The MLE may be on the boundary of the parameter space.\n",
      "  warnings.warn(msg, ConvergenceWarning)\n"
     ]
    },
    {
     "name": "stdout",
     "output_type": "stream",
     "text": [
      "                              Mixed Linear Model Regression Results\n",
      "==================================================================================================\n",
      "Model:                       MixedLM          Dependent Variable:          comment_respectvol_Eens\n",
      "No. Observations:            42744            Method:                      REML                   \n",
      "No. Groups:                  1504             Scale:                       0.1791                 \n",
      "Min. group size:             15               Log-Likelihood:              -25271.9987            \n",
      "Max. group size:             34               Converged:                   Yes                    \n",
      "Mean group size:             28.4                                                                 \n",
      "--------------------------------------------------------------------------------------------------\n",
      "                                                        Coef.  Std.Err.   z    P>|z| [0.025 0.975]\n",
      "--------------------------------------------------------------------------------------------------\n",
      "Intercept                                                0.612    0.019 32.277 0.000  0.575  0.649\n",
      "scientific_consensus_pro_klimaat                         0.006    0.003  1.901 0.057 -0.000  0.013\n",
      "comment_pro_klimaat_Ja                                   0.068    0.017  3.897 0.000  0.034  0.102\n",
      "scientific_consensus_pro_klimaat:comment_pro_klimaat_Ja  0.008    0.003  2.520 0.012  0.002  0.014\n",
      "Group Var                                                0.040    0.010                           \n",
      "Group x tweet_id Cov                                    -0.000    0.000                           \n",
      "tweet_id Var                                             0.000    0.000                           \n",
      "==================================================================================================\n",
      "\n"
     ]
    }
   ],
   "source": [
    "# Fit a logistic mixed-effects regression model\n",
    "formula = 'comment_respectvol_Eens ~ scientific_consensus_pro_klimaat * comment_pro_klimaat_Ja'\n",
    "model = smf.mixedlm(formula, df, groups=df['coder_id'], re_formula='1 + tweet_id')\n",
    "result = model.fit()\n",
    "\n",
    "# Display the model summary\n",
    "print(result.summary())"
   ]
  },
  {
   "cell_type": "code",
   "execution_count": 129,
   "id": "fbf85e7c",
   "metadata": {},
   "outputs": [
    {
     "name": "stderr",
     "output_type": "stream",
     "text": [
      "/tmp/ipykernel_93233/2289508864.py:13: UserWarning: The palette list has more values (8) than needed (2), which may not be intended.\n",
      "  sns.lineplot(x='scientific_consensus_pro_klimaat', y=predicted_probs, hue='comment_pro_klimaat_Ja', data=interaction_data,\n"
     ]
    },
    {
     "data": {
      "image/png": "[encoded data removed]",
      "text/plain": [
       "<Figure size 1400x1000 with 1 Axes>"
      ]
     },
     "metadata": {},
     "output_type": "display_data"
    }
   ],
   "source": [
    "interaction_data = pd.DataFrame({\n",
    "    'scientific_consensus_pro_klimaat': np.linspace(df['scientific_consensus_pro_klimaat'].min(),\n",
    "                                                    df['scientific_consensus_pro_klimaat'].max(), 100),\n",
    "    'comment_pro_klimaat_Ja': [0, 1] * 50,  # Two levels for interaction\n",
    "})\n",
    "\n",
    "predicted_probs = result.predict(interaction_data)\n",
    "\n",
    "sns.set(style='whitegrid')\n",
    "\n",
    "# Create a more visually appealing interaction plot\n",
    "plt.figure(figsize=(14, 10))\n",
    "sns.lineplot(x='scientific_consensus_pro_klimaat', y=predicted_probs, hue='comment_pro_klimaat_Ja', data=interaction_data,\n",
    "             palette=sns.color_palette('Set2'), linewidth=2)\n",
    "\n",
    "# Set plot title and labels\n",
    "plt.title('Interaction Effect: Scientific Consensus on Human-Caused Climate Change and Comment Tone', fontsize=16)\n",
    "plt.xlabel('Scientific Consensus on Human-Caused Climate Change', fontsize=14)\n",
    "plt.ylabel('Predicted Probability of Respectful Tone in Comment', fontsize=14)\n",
    "\n",
    "# Customize legend\n",
    "plt.legend(title='Comment Tone (0 = Neutral or Denial, 1 = Climate change is real)', fontsize=12, title_fontsize=14)\n",
    "\n",
    "# Display the plot\n",
    "plt.show()\n"
   ]
  },
  {
   "cell_type": "code",
   "execution_count": null,
   "id": "937b5220",
   "metadata": {},
   "outputs": [],
   "source": [
    "import numpy as np\n",
    "import matplotlib.pyplot as plt\n",
    "import seaborn as sns\n",
    "\n",
    "# Assuming 'result' is your fitted model result\n",
    "# Replace this with your actual result\n",
    "\n",
    "# Generate data for interaction plot\n",
    "interaction_data = pd.DataFrame({'scientific_consensus_pro_klimaat': np.linspace(df['scientific_consensus_pro_klimaat'].min(),\n",
    "                                                                               df['scientific_consensus_pro_klimaat'].max(), 100),\n",
    "                                 'comment_pro_klimaat_Nee': [0, 1] * 50,  # Two levels for interaction\n",
    "                                 'male_dummy': df['male_dummy'].mean(),  # Mean value for other variables\n",
    "                                 'recoded_education': df['recoded_education'].mean(),\n",
    "                                 'scale_importance': df['scale_importance'].mean(),\n",
    "                                 'age': df['age'].mean(),\n",
    "                                 'comment_nr': df['comment_nr'].mean()})\n",
    "\n",
    "# Predict probabilities for each level of the interacting variables\n",
    "predicted_probs = result.predict(interaction_data)\n",
    "\n",
    "# Create interaction plot\n",
    "plt.figure(figsize=(10, 6))\n",
    "sns.lineplot(x='scientific_consensus_pro_klimaat', y=predicted_probs, hue='comment_pro_klimaat_Nee', data=interaction_data)\n",
    "plt.title('Interaction Effect: scientific_consensus_pro_klimaat * comment_pro_klimaat_Nee')\n",
    "plt.xlabel('scientific_consensus_pro_klimaat')\n",
    "plt.ylabel('Predicted Probability of comment_respectvol_Eens')\n",
    "plt.legend(title='comment_pro_klimaat_Nee')\n",
    "plt.show()\n"
   ]
  },
  {
   "cell_type": "code",
   "execution_count": 131,
   "id": "18b8aa33",
   "metadata": {},
   "outputs": [
    {
     "name": "stderr",
     "output_type": "stream",
     "text": [
      "/Users/anne/Library/Python/3.9/lib/python/site-packages/statsmodels/base/model.py:604: ConvergenceWarning: Maximum Likelihood optimization failed to converge. Check mle_retvals\n",
      "  warnings.warn(\"Maximum Likelihood optimization failed to \"\n",
      "/Users/anne/Library/Python/3.9/lib/python/site-packages/statsmodels/regression/mixed_linear_model.py:2200: ConvergenceWarning: Retrying MixedLM optimization with lbfgs\n",
      "  warnings.warn(\n",
      "/Users/anne/Library/Python/3.9/lib/python/site-packages/statsmodels/regression/mixed_linear_model.py:2237: ConvergenceWarning: The MLE may be on the boundary of the parameter space.\n",
      "  warnings.warn(msg, ConvergenceWarning)\n"
     ]
    },
    {
     "name": "stdout",
     "output_type": "stream",
     "text": [
      "                    Mixed Linear Model Regression Results\n",
      "=============================================================================\n",
      "Model:            MixedLM Dependent Variable: comment_inhoudelijk_argument_Ja\n",
      "No. Observations: 42744   Method:             REML                           \n",
      "No. Groups:       1504    Scale:              0.2026                         \n",
      "Min. group size:  15      Log-Likelihood:     -27878.3116                    \n",
      "Max. group size:  34      Converged:          Yes                            \n",
      "Mean group size:  28.4                                                       \n",
      "-----------------------------------------------------------------------------\n",
      "                                   Coef.  Std.Err.   z    P>|z| [0.025 0.975]\n",
      "-----------------------------------------------------------------------------\n",
      "Intercept                           0.271    0.030  9.134 0.000  0.213  0.329\n",
      "recoded_education[T.Lager]          0.083    0.011  7.622 0.000  0.062  0.104\n",
      "age                                -0.000    0.000 -0.299 0.765 -0.001  0.001\n",
      "male_dummy                          0.009    0.010  0.887 0.375 -0.011  0.030\n",
      "scale_importance                    0.029    0.006  5.109 0.000  0.018  0.041\n",
      "scientific_consensus_pro_klimaat   -0.014    0.005 -3.015 0.003 -0.024 -0.005\n",
      "comment_respectvol_Eens             0.207    0.005 40.455 0.000  0.197  0.217\n",
      "comment_nr                         -0.010    0.001 -8.411 0.000 -0.013 -0.008\n",
      "Group Var                           0.044    0.009                           \n",
      "Group x tweet_id Cov               -0.000    0.000                           \n",
      "tweet_id Var                        0.000    0.000                           \n",
      "=============================================================================\n",
      "\n"
     ]
    }
   ],
   "source": [
    "\n",
    "formula = 'comment_inhoudelijk_argument_Ja  ~ age + male_dummy + recoded_education + scale_importance + scientific_consensus_pro_klimaat + comment_respectvol_Eens + comment_nr'\n",
    "model = smf.mixedlm(formula, df, groups=df['coder_id'], re_formula='1 + tweet_id')\n",
    "result = model.fit()\n",
    "\n",
    "print(result.summary())"
   ]
  },
  {
   "cell_type": "code",
   "execution_count": 138,
   "id": "5a9997a4",
   "metadata": {},
   "outputs": [
    {
     "name": "stderr",
     "output_type": "stream",
     "text": [
      "/Users/anne/Library/Python/3.9/lib/python/site-packages/statsmodels/base/model.py:604: ConvergenceWarning: Maximum Likelihood optimization failed to converge. Check mle_retvals\n",
      "  warnings.warn(\"Maximum Likelihood optimization failed to \"\n",
      "/Users/anne/Library/Python/3.9/lib/python/site-packages/statsmodels/regression/mixed_linear_model.py:2200: ConvergenceWarning: Retrying MixedLM optimization with lbfgs\n",
      "  warnings.warn(\n",
      "/Users/anne/Library/Python/3.9/lib/python/site-packages/statsmodels/regression/mixed_linear_model.py:2237: ConvergenceWarning: The MLE may be on the boundary of the parameter space.\n",
      "  warnings.warn(msg, ConvergenceWarning)\n"
     ]
    },
    {
     "name": "stdout",
     "output_type": "stream",
     "text": [
      "                   Mixed Linear Model Regression Results\n",
      "===========================================================================\n",
      "Model:                MixedLM   Dependent Variable:   tweet_pro_klimaat_Nee\n",
      "No. Observations:     42844     Method:               REML                 \n",
      "No. Groups:           1505      Scale:                0.1289               \n",
      "Min. group size:      15        Log-Likelihood:       -19057.9578          \n",
      "Max. group size:      34        Converged:            Yes                  \n",
      "Mean group size:      28.5                                                 \n",
      "---------------------------------------------------------------------------\n",
      "                                 Coef.  Std.Err.   z    P>|z| [0.025 0.975]\n",
      "---------------------------------------------------------------------------\n",
      "Intercept                         0.287    0.039  7.440 0.000  0.212  0.363\n",
      "recoded_education[T.Lager]       -0.051    0.014 -3.496 0.000 -0.079 -0.022\n",
      "age                               0.003    0.000  6.258 0.000  0.002  0.003\n",
      "male_dummy                        0.012    0.014  0.851 0.395 -0.015  0.039\n",
      "scale_importance                 -0.027    0.008 -3.551 0.000 -0.042 -0.012\n",
      "scientific_consensus_pro_klimaat  0.001    0.006  0.221 0.825 -0.011  0.014\n",
      "Group Var                         0.152    0.064                           \n",
      "Group x tweet_id Cov             -0.000    0.000                           \n",
      "tweet_id Var                      0.000    0.000                           \n",
      "===========================================================================\n",
      "\n"
     ]
    }
   ],
   "source": [
    "\n",
    "formula = 'tweet_pro_klimaat_Nee ~ age + male_dummy + recoded_education + scale_importance + scientific_consensus_pro_klimaat'\n",
    "model = smf.mixedlm(formula, df, groups=df['coder_id'], re_formula='1 + tweet_id')\n",
    "result = model.fit()\n",
    "\n",
    "print(result.summary())"
   ]
  },
  {
   "cell_type": "code",
   "execution_count": 129,
   "id": "6e99b79c",
   "metadata": {},
   "outputs": [
    {
     "name": "stderr",
     "output_type": "stream",
     "text": [
      "/Users/anne/Library/Python/3.9/lib/python/site-packages/statsmodels/base/model.py:604: ConvergenceWarning: Maximum Likelihood optimization failed to converge. Check mle_retvals\n",
      "  warnings.warn(\"Maximum Likelihood optimization failed to \"\n",
      "/Users/anne/Library/Python/3.9/lib/python/site-packages/statsmodels/regression/mixed_linear_model.py:2200: ConvergenceWarning: Retrying MixedLM optimization with lbfgs\n",
      "  warnings.warn(\n",
      "/Users/anne/Library/Python/3.9/lib/python/site-packages/statsmodels/regression/mixed_linear_model.py:2237: ConvergenceWarning: The MLE may be on the boundary of the parameter space.\n",
      "  warnings.warn(msg, ConvergenceWarning)\n"
     ]
    },
    {
     "name": "stdout",
     "output_type": "stream",
     "text": [
      "                   Mixed Linear Model Regression Results\n",
      "===========================================================================\n",
      "Model:              MixedLM   Dependent Variable:   comment_respectvol_Eens\n",
      "No. Observations:   42844     Method:               REML                   \n",
      "No. Groups:         1505      Scale:                0.1813                 \n",
      "Min. group size:    15        Log-Likelihood:       -25625.4174            \n",
      "Max. group size:    34        Converged:            Yes                    \n",
      "Mean group size:    28.5                                                   \n",
      "---------------------------------------------------------------------------\n",
      "                                 Coef.  Std.Err.   z    P>|z| [0.025 0.975]\n",
      "---------------------------------------------------------------------------\n",
      "Intercept                         0.625    0.029 21.693 0.000  0.568  0.681\n",
      "recoded_education[T.Lager]       -0.027    0.011 -2.460 0.014 -0.048 -0.005\n",
      "age                              -0.000    0.000 -0.026 0.979 -0.001  0.001\n",
      "male_dummy                        0.017    0.010  1.610 0.107 -0.004  0.037\n",
      "scale_importance                  0.006    0.006  1.054 0.292 -0.005  0.017\n",
      "scientific_consensus_pro_klimaat  0.007    0.005  1.449 0.147 -0.002  0.016\n",
      "Group Var                         0.042    0.010                           \n",
      "Group x tweet_id Cov             -0.000    0.000                           \n",
      "tweet_id Var                      0.000    0.000                           \n",
      "===========================================================================\n",
      "\n"
     ]
    }
   ],
   "source": [
    "import pandas as pd\n",
    "import statsmodels.api as sm\n",
    "import statsmodels.formula.api as smf\n",
    "\n",
    "\n",
    "# Fit a logistic mixed-effects regression model\n",
    "formula = 'comment_respectvol_Eens ~ age + male_dummy + recoded_education + scale_importance + scientific_consensus_pro_klimaat'\n",
    "model = smf.mixedlm(formula, df, groups=df['coder_id'], re_formula='1 + tweet_id')\n",
    "result = model.fit()\n",
    "\n",
    "# Display the model summary\n",
    "print(result.summary())"
   ]
  }
 ],
 "metadata": {
  "kernelspec": {
   "display_name": "Python 3 (ipykernel)",
   "language": "python",
   "name": "python3"
  },
  "language_info": {
   "codemirror_mode": {
    "name": "ipython",
    "version": 3
   },
   "file_extension": ".py",
   "mimetype": "text/x-python",
   "name": "python",
   "nbconvert_exporter": "python",
   "pygments_lexer": "ipython3",
   "version": "3.9.6"
  }
 },
 "nbformat": 4,
 "nbformat_minor": 5
}
