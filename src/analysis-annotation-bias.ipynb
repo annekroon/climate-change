{
 "cells": [
  {
   "cell_type": "markdown",
   "id": "d1ba693b",
   "metadata": {},
   "source": [
    "# Analysis for Climate Discourse paper\n",
    "\n",
    "This notebook contains the analysis for the 'substantive' paper"
   ]
  },
  {
   "cell_type": "code",
   "execution_count": 27,
   "id": "266155bc",
   "metadata": {},
   "outputs": [],
   "source": [
    "import pandas as pd\n",
    "import math\n",
    "import numpy as np\n",
    "import pingouin as pg\n",
    "import numpy as np\n",
    "import matplotlib.pyplot as plt\n",
    "import seaborn as sns\n",
    "\n",
    "import statsmodels.api as sm\n",
    "import statsmodels.formula.api as smf\n"
   ]
  },
  {
   "cell_type": "markdown",
   "id": "6acdc978",
   "metadata": {},
   "source": [
    "# Dataset overview and datawrangling"
   ]
  },
  {
   "cell_type": "code",
   "execution_count": 2,
   "id": "89b26310",
   "metadata": {},
   "outputs": [],
   "source": [
    "df = pd.read_csv('../data/annotations/twitter_klimaat_discussie_coderingen.csv')"
   ]
  },
  {
   "cell_type": "code",
   "execution_count": 3,
   "id": "d663044d",
   "metadata": {},
   "outputs": [],
   "source": [
    "## number of unique annotators:"
   ]
  },
  {
   "cell_type": "code",
   "execution_count": 4,
   "id": "17e722b8",
   "metadata": {
    "scrolled": true
   },
   "outputs": [
    {
     "data": {
      "text/plain": [
       "1517"
      ]
     },
     "execution_count": 4,
     "metadata": {},
     "output_type": "execute_result"
    }
   ],
   "source": [
    "len(df['coder'].unique())"
   ]
  },
  {
   "cell_type": "code",
   "execution_count": 5,
   "id": "8541f037",
   "metadata": {},
   "outputs": [
    {
     "data": {
      "text/plain": [
       "<AxesSubplot:>"
      ]
     },
     "execution_count": 5,
     "metadata": {},
     "output_type": "execute_result"
    },
    {
     "data": {
      "image/png": "[encoded data removed]",
      "text/plain": [
       "<Figure size 640x480 with 1 Axes>"
      ]
     },
     "metadata": {},
     "output_type": "display_data"
    }
   ],
   "source": [
    "df['scientific_consensus.pro_klimaat'].hist()"
   ]
  },
  {
   "cell_type": "code",
   "execution_count": 6,
   "id": "4eccb1c4",
   "metadata": {},
   "outputs": [
    {
     "data": {
      "text/plain": [
       "comment_inhoudelijk_argument\n",
       "Geen inhoudelijk argument    21428\n",
       "Inhoudelijk argument         21416\n",
       "Name: count, dtype: int64"
      ]
     },
     "execution_count": 6,
     "metadata": {},
     "output_type": "execute_result"
    }
   ],
   "source": [
    "df['comment_inhoudelijk_argument'].value_counts()\n",
    "#df.info()"
   ]
  },
  {
   "cell_type": "markdown",
   "id": "41e5e3ed",
   "metadata": {},
   "source": [
    "## Remove missing obs"
   ]
  },
  {
   "cell_type": "code",
   "execution_count": 7,
   "id": "5d3be0f2",
   "metadata": {},
   "outputs": [
    {
     "name": "stdout",
     "output_type": "stream",
     "text": [
      "42844\n",
      "42483\n"
     ]
    }
   ],
   "source": [
    "print(len(df))\n",
    "df = df.dropna(subset=['scientific_consensus.pro_klimaat'])\n",
    "df = df.dropna(subset=['age'])\n",
    "df = df.dropna(subset=['gender'])\n",
    "df = df.dropna(subset=['comment_respectvol'])\n",
    "print(len(df))"
   ]
  },
  {
   "cell_type": "code",
   "execution_count": 8,
   "id": "a2a17414",
   "metadata": {},
   "outputs": [
    {
     "data": {
      "text/plain": [
       "1504"
      ]
     },
     "execution_count": 8,
     "metadata": {},
     "output_type": "execute_result"
    }
   ],
   "source": [
    "len(df['coder'].unique())"
   ]
  },
  {
   "cell_type": "code",
   "execution_count": 9,
   "id": "ed5fbb2e",
   "metadata": {},
   "outputs": [
    {
     "name": "stdout",
     "output_type": "stream",
     "text": [
      "<class 'pandas.core.frame.DataFrame'>\n",
      "Index: 42483 entries, 0 to 42843\n",
      "Data columns (total 19 columns):\n",
      " #   Column                                     Non-Null Count  Dtype  \n",
      "---  ------                                     --------------  -----  \n",
      " 0   coder                                      42483 non-null  int64  \n",
      " 1   jobset                                     42483 non-null  object \n",
      " 2   scientific_consensus.pro_klimaat           42483 non-null  float64\n",
      " 3   scientific_consensus.belangrijk_onderwerp  42483 non-null  float64\n",
      " 4   scientific_consensus.sterke_mening         42483 non-null  float64\n",
      " 5   scientific_consensus.interesse_klimaat     42483 non-null  float64\n",
      " 6   age                                        42483 non-null  float64\n",
      " 7   gender                                     42483 non-null  object \n",
      " 8   education                                  42483 non-null  object \n",
      " 9   workhours                                  42483 non-null  object \n",
      " 10  tweet_id                                   42483 non-null  int64  \n",
      " 11  tweet_pro_klimaat                          42483 non-null  object \n",
      " 12  comment_nr                                 42483 non-null  int64  \n",
      " 13  comment_pro_klimaat                        42483 non-null  object \n",
      " 14  comment_inhoudelijk_argument               42483 non-null  object \n",
      " 15  comment_persoonlijke_aanval                42483 non-null  object \n",
      " 16  comment_over_communicatie                  42483 non-null  object \n",
      " 17  comment_respectvol                         42483 non-null  object \n",
      " 18  id                                         42483 non-null  object \n",
      "dtypes: float64(5), int64(3), object(11)\n",
      "memory usage: 6.5+ MB\n"
     ]
    }
   ],
   "source": [
    "df.info()"
   ]
  },
  {
   "cell_type": "markdown",
   "id": "e0c13f1e",
   "metadata": {},
   "source": [
    "## Internal consistency of the *issue importance* scale"
   ]
  },
  {
   "cell_type": "code",
   "execution_count": 10,
   "id": "53baa679",
   "metadata": {},
   "outputs": [
    {
     "data": {
      "text/plain": [
       "(0.8076223379196215, array([0.79 , 0.824]))"
      ]
     },
     "execution_count": 10,
     "metadata": {},
     "output_type": "execute_result"
    }
   ],
   "source": [
    "# Specify the columns for which you want to calculate Cronbach's alpha\n",
    "selected_columns = ['scientific_consensus.belangrijk_onderwerp',\n",
    "                    'scientific_consensus.sterke_mening',\n",
    "                    'scientific_consensus.interesse_klimaat']\n",
    "\n",
    "# Group by 'coder_id' and calculate Cronbach's alpha for selected columns\n",
    "grouped_data = df.groupby('coder')[selected_columns].first()\n",
    "\n",
    "# Calculate Cronbach's alpha for the selected columns\n",
    "alpha_result = pg.cronbach_alpha(grouped_data)\n",
    "alpha_result"
   ]
  },
  {
   "cell_type": "code",
   "execution_count": 11,
   "id": "88071783",
   "metadata": {},
   "outputs": [],
   "source": [
    "# Create a new column 'average_score' that contains the average of the specified columns\n",
    "df['scale_importance'] = df[selected_columns].mean(axis=1)\n",
    "# Display the result"
   ]
  },
  {
   "cell_type": "code",
   "execution_count": 12,
   "id": "d92a4e4f",
   "metadata": {},
   "outputs": [
    {
     "data": {
      "text/plain": [
       "comment_pro_klimaat\n",
       "Nee         15183\n",
       "Ja          14927\n",
       "Neutraal    12373\n",
       "Name: count, dtype: int64"
      ]
     },
     "execution_count": 12,
     "metadata": {},
     "output_type": "execute_result"
    }
   ],
   "source": [
    "#df[df['tweet_pro_klimaat'] == 'Eens']\n",
    "df['comment_pro_klimaat'].value_counts()"
   ]
  },
  {
   "cell_type": "code",
   "execution_count": 13,
   "id": "733797fa",
   "metadata": {},
   "outputs": [
    {
     "data": {
      "text/plain": [
       "gender\n",
       "Vrouw                        22213\n",
       "Man                          19979\n",
       "Non-binary                     181\n",
       "Wil ik liever niet zeggen      110\n",
       "Name: count, dtype: int64"
      ]
     },
     "execution_count": 13,
     "metadata": {},
     "output_type": "execute_result"
    }
   ],
   "source": [
    "df['gender'].value_counts()"
   ]
  },
  {
   "cell_type": "code",
   "execution_count": 14,
   "id": "51ec9369",
   "metadata": {},
   "outputs": [
    {
     "data": {
      "text/plain": [
       "comment_respectvol\n",
       "Eens      29186\n",
       "Oneens    13297\n",
       "Name: count, dtype: int64"
      ]
     },
     "execution_count": 14,
     "metadata": {},
     "output_type": "execute_result"
    }
   ],
   "source": [
    "df['comment_respectvol'].value_counts()"
   ]
  },
  {
   "cell_type": "markdown",
   "id": "11c5c2d7",
   "metadata": {},
   "source": [
    "## recoding variables"
   ]
  },
  {
   "cell_type": "code",
   "execution_count": 15,
   "id": "7b4600ad",
   "metadata": {},
   "outputs": [
    {
     "data": {
      "text/html": [
       "<div>\n",
       "<style scoped>\n",
       "    .dataframe tbody tr th:only-of-type {\n",
       "        vertical-align: middle;\n",
       "    }\n",
       "\n",
       "    .dataframe tbody tr th {\n",
       "        vertical-align: top;\n",
       "    }\n",
       "\n",
       "    .dataframe thead th {\n",
       "        text-align: right;\n",
       "    }\n",
       "</style>\n",
       "<table border=\"1\" class=\"dataframe\">\n",
       "  <thead>\n",
       "    <tr style=\"text-align: right;\">\n",
       "      <th></th>\n",
       "      <th>coder</th>\n",
       "      <th>comment_pro_klimaat</th>\n",
       "      <th>comment_pro_klimaat_Ja</th>\n",
       "      <th>comment_pro_klimaat_Nee</th>\n",
       "    </tr>\n",
       "  </thead>\n",
       "  <tbody>\n",
       "    <tr>\n",
       "      <th>0</th>\n",
       "      <td>11</td>\n",
       "      <td>Ja</td>\n",
       "      <td>1</td>\n",
       "      <td>0</td>\n",
       "    </tr>\n",
       "    <tr>\n",
       "      <th>1</th>\n",
       "      <td>11</td>\n",
       "      <td>Ja</td>\n",
       "      <td>1</td>\n",
       "      <td>0</td>\n",
       "    </tr>\n",
       "    <tr>\n",
       "      <th>2</th>\n",
       "      <td>11</td>\n",
       "      <td>Ja</td>\n",
       "      <td>1</td>\n",
       "      <td>0</td>\n",
       "    </tr>\n",
       "    <tr>\n",
       "      <th>3</th>\n",
       "      <td>11</td>\n",
       "      <td>Neutraal</td>\n",
       "      <td>0</td>\n",
       "      <td>0</td>\n",
       "    </tr>\n",
       "    <tr>\n",
       "      <th>4</th>\n",
       "      <td>11</td>\n",
       "      <td>Neutraal</td>\n",
       "      <td>0</td>\n",
       "      <td>0</td>\n",
       "    </tr>\n",
       "    <tr>\n",
       "      <th>5</th>\n",
       "      <td>11</td>\n",
       "      <td>Neutraal</td>\n",
       "      <td>0</td>\n",
       "      <td>0</td>\n",
       "    </tr>\n",
       "  </tbody>\n",
       "</table>\n",
       "</div>"
      ],
      "text/plain": [
       "   coder comment_pro_klimaat  comment_pro_klimaat_Ja  comment_pro_klimaat_Nee\n",
       "0     11                  Ja                       1                        0\n",
       "1     11                  Ja                       1                        0\n",
       "2     11                  Ja                       1                        0\n",
       "3     11            Neutraal                       0                        0\n",
       "4     11            Neutraal                       0                        0\n",
       "5     11            Neutraal                       0                        0"
      ]
     },
     "execution_count": 15,
     "metadata": {},
     "output_type": "execute_result"
    }
   ],
   "source": [
    "# Create two dummy variables for 'comment_pro_klimaat'\n",
    "dummy_variables = pd.get_dummies(df['comment_pro_klimaat'], prefix='comment_pro_klimaat')\n",
    "dummy_variables = dummy_variables.astype(int)\n",
    "df = pd.concat([df, dummy_variables], axis=1)\n",
    "\n",
    "df[['coder', 'comment_pro_klimaat', 'comment_pro_klimaat_Ja', 'comment_pro_klimaat_Nee']]. head(6)"
   ]
  },
  {
   "cell_type": "code",
   "execution_count": 16,
   "id": "555ff9f8",
   "metadata": {},
   "outputs": [],
   "source": [
    "df['tweet_pro_klimaat'].value_counts()\n",
    "\n",
    "recode_mapping = {'Eens': 'Ja', 'Oneens': 'Nee'}\n",
    "\n",
    "# Recode 'tweet_pro_klimaat'\n",
    "df['tweet_pro_klimaat'] = df['tweet_pro_klimaat'].replace(recode_mapping)\n",
    "\n",
    "dummy_variables = pd.get_dummies(df['tweet_pro_klimaat'], prefix='tweet_pro_klimaat')\n",
    "dummy_variables = dummy_variables.astype(int)\n",
    "df = pd.concat([df, dummy_variables], axis=1)"
   ]
  },
  {
   "cell_type": "code",
   "execution_count": 17,
   "id": "d061946d",
   "metadata": {},
   "outputs": [],
   "source": [
    "# Create two dummy variables for 'comment_pro_klimaat'\n",
    "dummy_variables = pd.get_dummies(df['comment_respectvol'], prefix='comment_respectvol')\n",
    "dummy_variables = dummy_variables.astype(int)\n",
    "df = pd.concat([df, dummy_variables], axis=1)"
   ]
  },
  {
   "cell_type": "code",
   "execution_count": 18,
   "id": "6d6b20d6",
   "metadata": {},
   "outputs": [],
   "source": [
    "df['coder'] = df['coder'].astype(str)"
   ]
  },
  {
   "cell_type": "code",
   "execution_count": 19,
   "id": "d312095b",
   "metadata": {},
   "outputs": [],
   "source": [
    "# Mapping of categories to two groups\n",
    "gender_mapping = {\n",
    "    'Vrouw': 'Female',\n",
    "    'Man': 'Male',\n",
    "    'Non-binary': 'Other',\n",
    "    'Wil ik liever niet zeggen': 'Other'\n",
    "}\n",
    "\n",
    "df['recoded_gender'] = df['gender'].map(gender_mapping)\n",
    "\n",
    "df['male_dummy'] = (df['recoded_gender'] == 'Male').astype(int)\n",
    "df['female_dummy'] = (df['recoded_gender'] == 'Female').astype(int)"
   ]
  },
  {
   "cell_type": "code",
   "execution_count": 20,
   "id": "7a08e161",
   "metadata": {},
   "outputs": [],
   "source": [
    "df['comment_inhoudelijk_argument_Ja'] = (df['comment_inhoudelijk_argument'] == 'Inhoudelijk argument').astype(int)\n",
    "df['comment_persoonlijke_aanval_Ja'] = (df['comment_persoonlijke_aanval'] == 'Persoonlijke aanval').astype(int)\n",
    "df['comment_respectvol_Ja'] = (df['comment_respectvol'] == 'Eens').astype(int)\n",
    "df['comment_over_communicatie_Ja'] = (df['comment_over_communicatie'] == 'Eens').astype(int)\n"
   ]
  },
  {
   "cell_type": "code",
   "execution_count": null,
   "id": "df54266c",
   "metadata": {},
   "outputs": [],
   "source": []
  },
  {
   "cell_type": "code",
   "execution_count": 21,
   "id": "2d05f112",
   "metadata": {},
   "outputs": [],
   "source": [
    "education_mapping = {\n",
    "    'Voorbereidend of kort middelbaar beroepsonderwijs (VMBO, KMBO)': 'Lager',\n",
    "    'Hoger beroepsonderwijs (HBO, HTS, HEAO, Sociale Academie, HHNO, lerarenonderwijs, etc.': 'Hoger',\n",
    "    'Middelbaar beroepsonderwijs (MBO, MTS, MEAO, Praktijkdiploma Boekhouden, Kleuterkweekschool, etc.': 'Lager',\n",
    "    'Anders': 'Lager',\n",
    "    'Wetenschappelijk onderwijs (universiteit)': 'Hoger',\n",
    "    'Voortgezet algemeen onderwijs (5-jaar HBS, MMS, HAVO, Lyceum, Atheneum, Gymnasium, VWO, etc.': 'Lager',\n",
    "    'Lager beroepsonderwijs (LBO, LTS, LHNO, huishoud-/ambachts-school, LEAO, lage land-en tuinbouwonderwijs etc.)': 'Lager',\n",
    "    'Middelbaar algemeen onderwijs (LAVO, ULO, MULO, MAVO, 3-jaar HBS, etc)': 'Lager',\n",
    "    'Lagere school (basisonderwijs)': 'Lager',\n",
    "    'Geen onderwijs of niet afgemaakt': 'Lager'\n",
    "}\n",
    "\n",
    "# Recode 'education' into a new column 'recoded_education'\n",
    "df['recoded_education'] = df['education'].map(education_mapping)\n",
    "df['recoded_education_hoger'] = (df['recoded_gender'] == 'Hoger').astype(int)"
   ]
  },
  {
   "cell_type": "code",
   "execution_count": 22,
   "id": "d10cbd35",
   "metadata": {},
   "outputs": [
    {
     "data": {
      "text/html": [
       "<div>\n",
       "<style scoped>\n",
       "    .dataframe tbody tr th:only-of-type {\n",
       "        vertical-align: middle;\n",
       "    }\n",
       "\n",
       "    .dataframe tbody tr th {\n",
       "        vertical-align: top;\n",
       "    }\n",
       "\n",
       "    .dataframe thead th {\n",
       "        text-align: right;\n",
       "    }\n",
       "</style>\n",
       "<table border=\"1\" class=\"dataframe\">\n",
       "  <thead>\n",
       "    <tr style=\"text-align: right;\">\n",
       "      <th></th>\n",
       "      <th>tweet_id</th>\n",
       "      <th>jobset</th>\n",
       "      <th>comment_nr</th>\n",
       "    </tr>\n",
       "  </thead>\n",
       "  <tbody>\n",
       "    <tr>\n",
       "      <th>0</th>\n",
       "      <td>22</td>\n",
       "      <td>set_3</td>\n",
       "      <td>1</td>\n",
       "    </tr>\n",
       "    <tr>\n",
       "      <th>1</th>\n",
       "      <td>22</td>\n",
       "      <td>set_3</td>\n",
       "      <td>2</td>\n",
       "    </tr>\n",
       "    <tr>\n",
       "      <th>2</th>\n",
       "      <td>22</td>\n",
       "      <td>set_3</td>\n",
       "      <td>3</td>\n",
       "    </tr>\n",
       "    <tr>\n",
       "      <th>3</th>\n",
       "      <td>22</td>\n",
       "      <td>set_3</td>\n",
       "      <td>4</td>\n",
       "    </tr>\n",
       "    <tr>\n",
       "      <th>4</th>\n",
       "      <td>22</td>\n",
       "      <td>set_3</td>\n",
       "      <td>5</td>\n",
       "    </tr>\n",
       "    <tr>\n",
       "      <th>5</th>\n",
       "      <td>24</td>\n",
       "      <td>set_3</td>\n",
       "      <td>1</td>\n",
       "    </tr>\n",
       "    <tr>\n",
       "      <th>6</th>\n",
       "      <td>24</td>\n",
       "      <td>set_3</td>\n",
       "      <td>2</td>\n",
       "    </tr>\n",
       "    <tr>\n",
       "      <th>7</th>\n",
       "      <td>24</td>\n",
       "      <td>set_3</td>\n",
       "      <td>3</td>\n",
       "    </tr>\n",
       "    <tr>\n",
       "      <th>8</th>\n",
       "      <td>24</td>\n",
       "      <td>set_3</td>\n",
       "      <td>4</td>\n",
       "    </tr>\n",
       "    <tr>\n",
       "      <th>9</th>\n",
       "      <td>24</td>\n",
       "      <td>set_3</td>\n",
       "      <td>5</td>\n",
       "    </tr>\n",
       "  </tbody>\n",
       "</table>\n",
       "</div>"
      ],
      "text/plain": [
       "   tweet_id jobset  comment_nr\n",
       "0        22  set_3           1\n",
       "1        22  set_3           2\n",
       "2        22  set_3           3\n",
       "3        22  set_3           4\n",
       "4        22  set_3           5\n",
       "5        24  set_3           1\n",
       "6        24  set_3           2\n",
       "7        24  set_3           3\n",
       "8        24  set_3           4\n",
       "9        24  set_3           5"
      ]
     },
     "execution_count": 22,
     "metadata": {},
     "output_type": "execute_result"
    }
   ],
   "source": [
    "df[['tweet_id', 'jobset', 'comment_nr']].head(10)"
   ]
  },
  {
   "cell_type": "code",
   "execution_count": 23,
   "id": "b86b2093",
   "metadata": {},
   "outputs": [],
   "source": [
    "df['scientific_consensus_pro_klimaat'] = df['scientific_consensus.pro_klimaat']"
   ]
  },
  {
   "cell_type": "markdown",
   "id": "28201c49",
   "metadata": {},
   "source": [
    "## RUnning some models"
   ]
  },
  {
   "cell_type": "code",
   "execution_count": 24,
   "id": "127b2748",
   "metadata": {},
   "outputs": [
    {
     "name": "stderr",
     "output_type": "stream",
     "text": [
      "/home/damian/.local/lib/python3.8/site-packages/statsmodels/base/model.py:604: ConvergenceWarning: Maximum Likelihood optimization failed to converge. Check mle_retvals\n",
      "  warnings.warn(\"Maximum Likelihood optimization failed to \"\n",
      "/home/damian/.local/lib/python3.8/site-packages/statsmodels/regression/mixed_linear_model.py:2200: ConvergenceWarning: Retrying MixedLM optimization with lbfgs\n",
      "  warnings.warn(\n",
      "/home/damian/.local/lib/python3.8/site-packages/statsmodels/base/model.py:604: ConvergenceWarning: Maximum Likelihood optimization failed to converge. Check mle_retvals\n",
      "  warnings.warn(\"Maximum Likelihood optimization failed to \"\n",
      "/home/damian/.local/lib/python3.8/site-packages/statsmodels/regression/mixed_linear_model.py:2200: ConvergenceWarning: Retrying MixedLM optimization with cg\n",
      "  warnings.warn(\n",
      "/home/damian/.local/lib/python3.8/site-packages/statsmodels/base/model.py:604: ConvergenceWarning: Maximum Likelihood optimization failed to converge. Check mle_retvals\n",
      "  warnings.warn(\"Maximum Likelihood optimization failed to \"\n",
      "/home/damian/.local/lib/python3.8/site-packages/statsmodels/regression/mixed_linear_model.py:2206: ConvergenceWarning: MixedLM optimization failed, trying a different optimizer may help.\n",
      "  warnings.warn(msg, ConvergenceWarning)\n",
      "/home/damian/.local/lib/python3.8/site-packages/statsmodels/regression/mixed_linear_model.py:2218: ConvergenceWarning: Gradient optimization failed, |grad| = 221499.762831\n",
      "  warnings.warn(msg, ConvergenceWarning)\n",
      "/home/damian/.local/lib/python3.8/site-packages/statsmodels/regression/mixed_linear_model.py:2237: ConvergenceWarning: The MLE may be on the boundary of the parameter space.\n",
      "  warnings.warn(msg, ConvergenceWarning)\n",
      "/home/damian/.local/lib/python3.8/site-packages/statsmodels/regression/mixed_linear_model.py:2261: ConvergenceWarning: The Hessian matrix at the estimated parameter values is not positive definite.\n",
      "  warnings.warn(msg, ConvergenceWarning)\n"
     ]
    },
    {
     "name": "stdout",
     "output_type": "stream",
     "text": [
      "                   Mixed Linear Model Regression Results\n",
      "===========================================================================\n",
      "Model:              MixedLM   Dependent Variable:   comment_pro_klimaat_Nee\n",
      "No. Observations:   42483     Method:               REML                   \n",
      "No. Groups:         1504      Scale:                0.1667                 \n",
      "Min. group size:    11        Log-Likelihood:       -24860.8587            \n",
      "Max. group size:    34        Converged:            No                     \n",
      "Mean group size:    28.2                                                   \n",
      "---------------------------------------------------------------------------\n",
      "                                 Coef.  Std.Err.   z    P>|z| [0.025 0.975]\n",
      "---------------------------------------------------------------------------\n",
      "Intercept                         0.371    0.052  7.125 0.000  0.269  0.473\n",
      "recoded_education[T.Lager]       -0.054    0.021 -2.520 0.012 -0.096 -0.012\n",
      "age                               0.002    0.001  2.548 0.011  0.000  0.003\n",
      "male_dummy                        0.005    0.021  0.224 0.823 -0.036  0.045\n",
      "scientific_consensus_pro_klimaat -0.013    0.007 -1.914 0.056 -0.025  0.000\n",
      "Group Var                         0.170                                    \n",
      "Group x tweet_id Cov             -0.000                                    \n",
      "tweet_id Var                      0.000                                    \n",
      "===========================================================================\n",
      "\n"
     ]
    }
   ],
   "source": [
    "\n",
    "# Fit a logistic mixed-effects regression model\n",
    "formula = 'comment_pro_klimaat_Nee ~ age + male_dummy + recoded_education + scientific_consensus_pro_klimaat '\n",
    "model = smf.mixedlm(formula, df, groups=df['coder'], re_formula='1 + tweet_id')\n",
    "result = model.fit()\n",
    "\n",
    "print(result.summary())"
   ]
  },
  {
   "cell_type": "code",
   "execution_count": null,
   "id": "d8699f2e",
   "metadata": {},
   "outputs": [],
   "source": []
  },
  {
   "cell_type": "code",
   "execution_count": 29,
   "id": "79992921",
   "metadata": {},
   "outputs": [
    {
     "name": "stdout",
     "output_type": "stream",
     "text": [
      "comment_pro_klimaat_Nee\n",
      "**************************************************\n",
      "Optimization terminated successfully.\n",
      "         Current function value: 0.647926\n",
      "         Iterations 4\n"
     ]
    },
    {
     "name": "stderr",
     "output_type": "stream",
     "text": [
      "/home/damian/.local/lib/python3.8/site-packages/statsmodels/base/model.py:127: ValueWarning: unknown kwargs ['groups']\n",
      "  warnings.warn(msg, ValueWarning)\n"
     ]
    },
    {
     "name": "stdout",
     "output_type": "stream",
     "text": [
      "recoded_education[T.Lager]          0.798859\n",
      "age                                 1.007334\n",
      "male_dummy                          1.056337\n",
      "scientific_consensus_pro_klimaat    0.937053\n",
      "dtype: float64\n",
      "\n",
      "\n",
      "\n",
      "comment_inhoudelijk_argument_Ja\n",
      "**************************************************\n"
     ]
    },
    {
     "name": "stderr",
     "output_type": "stream",
     "text": [
      "/home/damian/.local/lib/python3.8/site-packages/statsmodels/base/model.py:127: ValueWarning: unknown kwargs ['groups']\n",
      "  warnings.warn(msg, ValueWarning)\n"
     ]
    },
    {
     "name": "stdout",
     "output_type": "stream",
     "text": [
      "Optimization terminated successfully.\n",
      "         Current function value: 0.690703\n",
      "         Iterations 4\n",
      "recoded_education[T.Lager]          1.330244\n",
      "age                                 1.000117\n",
      "male_dummy                          1.052937\n",
      "scientific_consensus_pro_klimaat    1.018266\n",
      "dtype: float64\n",
      "\n",
      "\n",
      "\n",
      "comment_persoonlijke_aanval_Ja\n",
      "**************************************************\n"
     ]
    },
    {
     "name": "stderr",
     "output_type": "stream",
     "text": [
      "/home/damian/.local/lib/python3.8/site-packages/statsmodels/base/model.py:127: ValueWarning: unknown kwargs ['groups']\n",
      "  warnings.warn(msg, ValueWarning)\n"
     ]
    },
    {
     "name": "stdout",
     "output_type": "stream",
     "text": [
      "Optimization terminated successfully.\n",
      "         Current function value: 0.654804\n",
      "         Iterations 4\n",
      "recoded_education[T.Lager]          1.369864\n",
      "age                                 0.992040\n",
      "male_dummy                          1.051646\n",
      "scientific_consensus_pro_klimaat    1.045560\n",
      "dtype: float64\n",
      "\n",
      "\n",
      "\n",
      "comment_over_communicatie_Ja\n",
      "**************************************************\n"
     ]
    },
    {
     "name": "stderr",
     "output_type": "stream",
     "text": [
      "/home/damian/.local/lib/python3.8/site-packages/statsmodels/base/model.py:127: ValueWarning: unknown kwargs ['groups']\n",
      "  warnings.warn(msg, ValueWarning)\n"
     ]
    },
    {
     "name": "stdout",
     "output_type": "stream",
     "text": [
      "Optimization terminated successfully.\n",
      "         Current function value: 0.681635\n",
      "         Iterations 4\n",
      "recoded_education[T.Lager]          1.449360\n",
      "age                                 1.009967\n",
      "male_dummy                          1.050358\n",
      "scientific_consensus_pro_klimaat    1.042381\n",
      "dtype: float64\n",
      "\n",
      "\n",
      "\n",
      "comment_respectvol_Ja\n",
      "**************************************************\n",
      "Optimization terminated successfully.\n",
      "         Current function value: 0.620272\n",
      "         Iterations 5\n",
      "recoded_education[T.Lager]          0.887617\n",
      "age                                 1.000094\n",
      "male_dummy                          1.071174\n",
      "scientific_consensus_pro_klimaat    1.046420\n",
      "dtype: float64\n",
      "\n",
      "\n",
      "\n"
     ]
    },
    {
     "name": "stderr",
     "output_type": "stream",
     "text": [
      "/home/damian/.local/lib/python3.8/site-packages/statsmodels/base/model.py:127: ValueWarning: unknown kwargs ['groups']\n",
      "  warnings.warn(msg, ValueWarning)\n"
     ]
    }
   ],
   "source": [
    "# also just run an ordinary logistic regression, to just get a rough idea\n",
    "# in particular given that all \n",
    "\n",
    "dvs = ['comment_pro_klimaat_Nee', 'comment_inhoudelijk_argument_Ja',\n",
    "       'comment_persoonlijke_aanval_Ja', 'comment_over_communicatie_Ja', 'comment_respectvol_Ja']\n",
    "for dv in dvs:\n",
    "    print(dv)\n",
    "    print('*'*50)\n",
    "    formula = f'{dv} ~ age + male_dummy + recoded_education + scientific_consensus_pro_klimaat '\n",
    "    r = smf.logit(formula, df, groups=df['coder']).fit()\n",
    "    print(r.params.apply(math.exp)[1:])\n",
    "    print('\\n\\n')"
   ]
  },
  {
   "cell_type": "code",
   "execution_count": null,
   "id": "03b3098d",
   "metadata": {},
   "outputs": [],
   "source": []
  },
  {
   "cell_type": "code",
   "execution_count": null,
   "id": "ab0d92ed",
   "metadata": {},
   "outputs": [],
   "source": []
  },
  {
   "cell_type": "code",
   "execution_count": null,
   "id": "f0222844",
   "metadata": {},
   "outputs": [],
   "source": []
  },
  {
   "cell_type": "code",
   "execution_count": 30,
   "id": "6366e668",
   "metadata": {},
   "outputs": [
    {
     "name": "stderr",
     "output_type": "stream",
     "text": [
      "/home/damian/.local/lib/python3.8/site-packages/statsmodels/base/model.py:604: ConvergenceWarning: Maximum Likelihood optimization failed to converge. Check mle_retvals\n",
      "  warnings.warn(\"Maximum Likelihood optimization failed to \"\n",
      "/home/damian/.local/lib/python3.8/site-packages/statsmodels/regression/mixed_linear_model.py:2200: ConvergenceWarning: Retrying MixedLM optimization with lbfgs\n",
      "  warnings.warn(\n",
      "/home/damian/.local/lib/python3.8/site-packages/statsmodels/base/model.py:604: ConvergenceWarning: Maximum Likelihood optimization failed to converge. Check mle_retvals\n",
      "  warnings.warn(\"Maximum Likelihood optimization failed to \"\n",
      "/home/damian/.local/lib/python3.8/site-packages/statsmodels/regression/mixed_linear_model.py:2200: ConvergenceWarning: Retrying MixedLM optimization with cg\n",
      "  warnings.warn(\n",
      "/home/damian/.local/lib/python3.8/site-packages/statsmodels/base/model.py:604: ConvergenceWarning: Maximum Likelihood optimization failed to converge. Check mle_retvals\n",
      "  warnings.warn(\"Maximum Likelihood optimization failed to \"\n",
      "/home/damian/.local/lib/python3.8/site-packages/statsmodels/regression/mixed_linear_model.py:2206: ConvergenceWarning: MixedLM optimization failed, trying a different optimizer may help.\n",
      "  warnings.warn(msg, ConvergenceWarning)\n",
      "/home/damian/.local/lib/python3.8/site-packages/statsmodels/regression/mixed_linear_model.py:2218: ConvergenceWarning: Gradient optimization failed, |grad| = 232388.666542\n",
      "  warnings.warn(msg, ConvergenceWarning)\n",
      "/home/damian/.local/lib/python3.8/site-packages/statsmodels/regression/mixed_linear_model.py:2237: ConvergenceWarning: The MLE may be on the boundary of the parameter space.\n",
      "  warnings.warn(msg, ConvergenceWarning)\n",
      "/home/damian/.local/lib/python3.8/site-packages/statsmodels/regression/mixed_linear_model.py:2261: ConvergenceWarning: The Hessian matrix at the estimated parameter values is not positive definite.\n",
      "  warnings.warn(msg, ConvergenceWarning)\n"
     ]
    },
    {
     "name": "stdout",
     "output_type": "stream",
     "text": [
      "                   Mixed Linear Model Regression Results\n",
      "============================================================================\n",
      "Model:               MixedLM   Dependent Variable:   comment_pro_klimaat_Nee\n",
      "No. Observations:    42483     Method:               REML                   \n",
      "No. Groups:          1504      Scale:                0.1639                 \n",
      "Min. group size:     11        Log-Likelihood:       -24714.8851            \n",
      "Max. group size:     34        Converged:            No                     \n",
      "Mean group size:     28.2                                                   \n",
      "----------------------------------------------------------------------------\n",
      "                                 Coef.  Std.Err.    z    P>|z| [0.025 0.975]\n",
      "----------------------------------------------------------------------------\n",
      "Intercept                         0.491    0.066   7.477 0.000  0.362  0.620\n",
      "recoded_education[T.Lager]       -0.063    0.025  -2.510 0.012 -0.112 -0.014\n",
      "age                               0.002    0.001   2.451 0.014  0.000  0.003\n",
      "male_dummy                        0.006    0.024   0.244 0.807 -0.041  0.053\n",
      "scale_importance                 -0.029    0.013  -2.190 0.029 -0.055 -0.003\n",
      "scientific_consensus_pro_klimaat  0.006    0.011   0.508 0.611 -0.016  0.027\n",
      "comment_respectvol_Eens          -0.111    0.005 -23.765 0.000 -0.121 -0.102\n",
      "comment_nr                        0.002    0.001   1.768 0.077 -0.000  0.004\n",
      "Group Var                         0.167                                     \n",
      "Group x tweet_id Cov             -0.000                                     \n",
      "tweet_id Var                      0.000                                     \n",
      "============================================================================\n",
      "\n"
     ]
    }
   ],
   "source": [
    "# Fit a logistic mixed-effects regression model\n",
    "formula = 'comment_pro_klimaat_Nee ~ age + male_dummy + recoded_education + scale_importance + scientific_consensus_pro_klimaat + comment_respectvol_Eens + comment_nr'\n",
    "model = smf.mixedlm(formula, df, groups=df['coder'], re_formula='1 + tweet_id')\n",
    "result = model.fit()\n",
    "\n",
    "# Display the model summary\n",
    "print(result.summary())"
   ]
  },
  {
   "cell_type": "code",
   "execution_count": 32,
   "id": "9e118094",
   "metadata": {},
   "outputs": [
    {
     "name": "stderr",
     "output_type": "stream",
     "text": [
      "/home/damian/.local/lib/python3.8/site-packages/statsmodels/base/model.py:604: ConvergenceWarning: Maximum Likelihood optimization failed to converge. Check mle_retvals\n",
      "  warnings.warn(\"Maximum Likelihood optimization failed to \"\n",
      "/home/damian/.local/lib/python3.8/site-packages/statsmodels/regression/mixed_linear_model.py:2200: ConvergenceWarning: Retrying MixedLM optimization with lbfgs\n",
      "  warnings.warn(\n",
      "/home/damian/.local/lib/python3.8/site-packages/statsmodels/base/model.py:604: ConvergenceWarning: Maximum Likelihood optimization failed to converge. Check mle_retvals\n",
      "  warnings.warn(\"Maximum Likelihood optimization failed to \"\n",
      "/home/damian/.local/lib/python3.8/site-packages/statsmodels/regression/mixed_linear_model.py:2200: ConvergenceWarning: Retrying MixedLM optimization with cg\n",
      "  warnings.warn(\n",
      "/home/damian/.local/lib/python3.8/site-packages/statsmodels/base/model.py:604: ConvergenceWarning: Maximum Likelihood optimization failed to converge. Check mle_retvals\n",
      "  warnings.warn(\"Maximum Likelihood optimization failed to \"\n",
      "/home/damian/.local/lib/python3.8/site-packages/statsmodels/regression/mixed_linear_model.py:2206: ConvergenceWarning: MixedLM optimization failed, trying a different optimizer may help.\n",
      "  warnings.warn(msg, ConvergenceWarning)\n",
      "/home/damian/.local/lib/python3.8/site-packages/statsmodels/regression/mixed_linear_model.py:2218: ConvergenceWarning: Gradient optimization failed, |grad| = 66796.583409\n",
      "  warnings.warn(msg, ConvergenceWarning)\n",
      "/home/damian/.local/lib/python3.8/site-packages/statsmodels/regression/mixed_linear_model.py:2237: ConvergenceWarning: The MLE may be on the boundary of the parameter space.\n",
      "  warnings.warn(msg, ConvergenceWarning)\n"
     ]
    },
    {
     "name": "stdout",
     "output_type": "stream",
     "text": [
      "                               Mixed Linear Model Regression Results\n",
      "===================================================================================================\n",
      "Model:                      MixedLM           Dependent Variable:           comment_respectvol_Eens\n",
      "No. Observations:           42483             Method:                       REML                   \n",
      "No. Groups:                 1504              Scale:                        0.1772                 \n",
      "Min. group size:            11                Log-Likelihood:               -25222.5107            \n",
      "Max. group size:            34                Converged:                    No                     \n",
      "Mean group size:            28.2                                                                   \n",
      "---------------------------------------------------------------------------------------------------\n",
      "                                                         Coef.  Std.Err.   z    P>|z| [0.025 0.975]\n",
      "---------------------------------------------------------------------------------------------------\n",
      "Intercept                                                 0.672    0.033 20.459 0.000  0.607  0.736\n",
      "recoded_education[T.Lager]                               -0.030    0.012 -2.582 0.010 -0.053 -0.007\n",
      "age                                                      -0.000    0.000 -0.278 0.781 -0.001  0.001\n",
      "male_dummy                                                0.021    0.011  1.908 0.056 -0.001  0.043\n",
      "scale_importance                                         -0.000    0.006 -0.073 0.942 -0.013  0.012\n",
      "scientific_consensus_pro_klimaat                          0.013    0.005  2.461 0.014  0.003  0.023\n",
      "comment_pro_klimaat_Nee                                  -0.063    0.018 -3.600 0.000 -0.098 -0.029\n",
      "scientific_consensus_pro_klimaat:comment_pro_klimaat_Nee -0.010    0.003 -3.212 0.001 -0.016 -0.004\n",
      "comment_nr                                               -0.001    0.001 -0.930 0.352 -0.003  0.001\n",
      "Group Var                                                 0.176                                    \n",
      "Group x tweet_id Cov                                     -0.000                                    \n",
      "tweet_id Var                                              0.000                                    \n",
      "===================================================================================================\n",
      "\n"
     ]
    }
   ],
   "source": [
    "# Fit a logistic mixed-effects regression model\n",
    "formula = 'comment_respectvol_Eens ~ age + male_dummy + recoded_education + scale_importance + scientific_consensus_pro_klimaat * comment_pro_klimaat_Nee + comment_nr'\n",
    "model = smf.mixedlm(formula, df, groups=df['coder'], re_formula='1 + tweet_id')\n",
    "result = model.fit()\n",
    "\n",
    "# Display the model summary\n",
    "print(result.summary())"
   ]
  },
  {
   "cell_type": "code",
   "execution_count": 33,
   "id": "0ea37510",
   "metadata": {},
   "outputs": [
    {
     "data": {
      "text/html": [
       "<div>\n",
       "<style scoped>\n",
       "    .dataframe tbody tr th:only-of-type {\n",
       "        vertical-align: middle;\n",
       "    }\n",
       "\n",
       "    .dataframe tbody tr th {\n",
       "        vertical-align: top;\n",
       "    }\n",
       "\n",
       "    .dataframe thead th {\n",
       "        text-align: right;\n",
       "    }\n",
       "</style>\n",
       "<table border=\"1\" class=\"dataframe\">\n",
       "  <thead>\n",
       "    <tr style=\"text-align: right;\">\n",
       "      <th></th>\n",
       "      <th>comment_pro_klimaat_Ja</th>\n",
       "      <th>comment_pro_klimaat</th>\n",
       "    </tr>\n",
       "  </thead>\n",
       "  <tbody>\n",
       "    <tr>\n",
       "      <th>0</th>\n",
       "      <td>1</td>\n",
       "      <td>Ja</td>\n",
       "    </tr>\n",
       "    <tr>\n",
       "      <th>1</th>\n",
       "      <td>1</td>\n",
       "      <td>Ja</td>\n",
       "    </tr>\n",
       "    <tr>\n",
       "      <th>2</th>\n",
       "      <td>1</td>\n",
       "      <td>Ja</td>\n",
       "    </tr>\n",
       "    <tr>\n",
       "      <th>3</th>\n",
       "      <td>0</td>\n",
       "      <td>Neutraal</td>\n",
       "    </tr>\n",
       "    <tr>\n",
       "      <th>4</th>\n",
       "      <td>0</td>\n",
       "      <td>Neutraal</td>\n",
       "    </tr>\n",
       "    <tr>\n",
       "      <th>...</th>\n",
       "      <td>...</td>\n",
       "      <td>...</td>\n",
       "    </tr>\n",
       "    <tr>\n",
       "      <th>42839</th>\n",
       "      <td>0</td>\n",
       "      <td>Nee</td>\n",
       "    </tr>\n",
       "    <tr>\n",
       "      <th>42840</th>\n",
       "      <td>0</td>\n",
       "      <td>Nee</td>\n",
       "    </tr>\n",
       "    <tr>\n",
       "      <th>42841</th>\n",
       "      <td>0</td>\n",
       "      <td>Nee</td>\n",
       "    </tr>\n",
       "    <tr>\n",
       "      <th>42842</th>\n",
       "      <td>0</td>\n",
       "      <td>Nee</td>\n",
       "    </tr>\n",
       "    <tr>\n",
       "      <th>42843</th>\n",
       "      <td>0</td>\n",
       "      <td>Nee</td>\n",
       "    </tr>\n",
       "  </tbody>\n",
       "</table>\n",
       "<p>42483 rows × 2 columns</p>\n",
       "</div>"
      ],
      "text/plain": [
       "       comment_pro_klimaat_Ja comment_pro_klimaat\n",
       "0                           1                  Ja\n",
       "1                           1                  Ja\n",
       "2                           1                  Ja\n",
       "3                           0            Neutraal\n",
       "4                           0            Neutraal\n",
       "...                       ...                 ...\n",
       "42839                       0                 Nee\n",
       "42840                       0                 Nee\n",
       "42841                       0                 Nee\n",
       "42842                       0                 Nee\n",
       "42843                       0                 Nee\n",
       "\n",
       "[42483 rows x 2 columns]"
      ]
     },
     "execution_count": 33,
     "metadata": {},
     "output_type": "execute_result"
    }
   ],
   "source": [
    "df[['comment_pro_klimaat_Ja', 'comment_pro_klimaat']]"
   ]
  },
  {
   "cell_type": "code",
   "execution_count": 34,
   "id": "1fe292ac",
   "metadata": {},
   "outputs": [
    {
     "name": "stderr",
     "output_type": "stream",
     "text": [
      "/home/damian/.local/lib/python3.8/site-packages/statsmodels/base/model.py:604: ConvergenceWarning: Maximum Likelihood optimization failed to converge. Check mle_retvals\n",
      "  warnings.warn(\"Maximum Likelihood optimization failed to \"\n",
      "/home/damian/.local/lib/python3.8/site-packages/statsmodels/regression/mixed_linear_model.py:2200: ConvergenceWarning: Retrying MixedLM optimization with lbfgs\n",
      "  warnings.warn(\n",
      "/home/damian/.local/lib/python3.8/site-packages/statsmodels/regression/mixed_linear_model.py:1634: UserWarning: Random effects covariance is singular\n",
      "  warnings.warn(msg)\n",
      "/home/damian/.local/lib/python3.8/site-packages/statsmodels/regression/mixed_linear_model.py:2237: ConvergenceWarning: The MLE may be on the boundary of the parameter space.\n",
      "  warnings.warn(msg, ConvergenceWarning)\n"
     ]
    },
    {
     "name": "stdout",
     "output_type": "stream",
     "text": [
      "                              Mixed Linear Model Regression Results\n",
      "==================================================================================================\n",
      "Model:                       MixedLM          Dependent Variable:          comment_respectvol_Eens\n",
      "No. Observations:            42483            Method:                      REML                   \n",
      "No. Groups:                  1504             Scale:                       0.1789                 \n",
      "Min. group size:             11               Log-Likelihood:              -25102.6732            \n",
      "Max. group size:             34               Converged:                   Yes                    \n",
      "Mean group size:             28.2                                                                 \n",
      "--------------------------------------------------------------------------------------------------\n",
      "                                                        Coef.  Std.Err.   z    P>|z| [0.025 0.975]\n",
      "--------------------------------------------------------------------------------------------------\n",
      "Intercept                                                0.611    0.019 32.175 0.000  0.573  0.648\n",
      "scientific_consensus_pro_klimaat                         0.007    0.003  1.972 0.049  0.000  0.013\n",
      "comment_pro_klimaat_Ja                                   0.071    0.018  4.034 0.000  0.036  0.105\n",
      "scientific_consensus_pro_klimaat:comment_pro_klimaat_Ja  0.007    0.003  2.371 0.018  0.001  0.013\n",
      "Group Var                                                0.040    0.010                           \n",
      "Group x tweet_id Cov                                    -0.000    0.000                           \n",
      "tweet_id Var                                             0.000    0.000                           \n",
      "==================================================================================================\n",
      "\n"
     ]
    }
   ],
   "source": [
    "# Fit a logistic mixed-effects regression model\n",
    "formula = 'comment_respectvol_Eens ~ scientific_consensus_pro_klimaat * comment_pro_klimaat_Ja'\n",
    "model = smf.mixedlm(formula, df, groups=df['coder'], re_formula='1 + tweet_id')\n",
    "result = model.fit()\n",
    "\n",
    "# Display the model summary\n",
    "print(result.summary())"
   ]
  },
  {
   "cell_type": "code",
   "execution_count": 35,
   "id": "b7e59deb",
   "metadata": {
    "scrolled": true
   },
   "outputs": [
    {
     "ename": "ValueError",
     "evalue": "The palette list has the wrong number of colors.",
     "output_type": "error",
     "traceback": [
      "\u001b[0;31m---------------------------------------------------------------------------\u001b[0m",
      "\u001b[0;31mValueError\u001b[0m                                Traceback (most recent call last)",
      "Cell \u001b[0;32mIn[35], line 13\u001b[0m\n\u001b[1;32m     11\u001b[0m \u001b[38;5;66;03m# Create a more visually appealing interaction plot\u001b[39;00m\n\u001b[1;32m     12\u001b[0m plt\u001b[38;5;241m.\u001b[39mfigure(figsize\u001b[38;5;241m=\u001b[39m(\u001b[38;5;241m14\u001b[39m, \u001b[38;5;241m10\u001b[39m))\n\u001b[0;32m---> 13\u001b[0m \u001b[43msns\u001b[49m\u001b[38;5;241;43m.\u001b[39;49m\u001b[43mlineplot\u001b[49m\u001b[43m(\u001b[49m\u001b[43mx\u001b[49m\u001b[38;5;241;43m=\u001b[39;49m\u001b[38;5;124;43m'\u001b[39;49m\u001b[38;5;124;43mscientific_consensus_pro_klimaat\u001b[39;49m\u001b[38;5;124;43m'\u001b[39;49m\u001b[43m,\u001b[49m\u001b[43m \u001b[49m\u001b[43my\u001b[49m\u001b[38;5;241;43m=\u001b[39;49m\u001b[43mpredicted_probs\u001b[49m\u001b[43m,\u001b[49m\u001b[43m \u001b[49m\u001b[43mhue\u001b[49m\u001b[38;5;241;43m=\u001b[39;49m\u001b[38;5;124;43m'\u001b[39;49m\u001b[38;5;124;43mcomment_pro_klimaat_Ja\u001b[39;49m\u001b[38;5;124;43m'\u001b[39;49m\u001b[43m,\u001b[49m\u001b[43m \u001b[49m\u001b[43mdata\u001b[49m\u001b[38;5;241;43m=\u001b[39;49m\u001b[43minteraction_data\u001b[49m\u001b[43m,\u001b[49m\n\u001b[1;32m     14\u001b[0m \u001b[43m             \u001b[49m\u001b[43mpalette\u001b[49m\u001b[38;5;241;43m=\u001b[39;49m\u001b[43msns\u001b[49m\u001b[38;5;241;43m.\u001b[39;49m\u001b[43mcolor_palette\u001b[49m\u001b[43m(\u001b[49m\u001b[38;5;124;43m'\u001b[39;49m\u001b[38;5;124;43mSet2\u001b[39;49m\u001b[38;5;124;43m'\u001b[39;49m\u001b[43m)\u001b[49m\u001b[43m,\u001b[49m\u001b[43m \u001b[49m\u001b[43mlinewidth\u001b[49m\u001b[38;5;241;43m=\u001b[39;49m\u001b[38;5;241;43m2\u001b[39;49m\u001b[43m)\u001b[49m\n\u001b[1;32m     16\u001b[0m \u001b[38;5;66;03m# Set plot title and labels\u001b[39;00m\n\u001b[1;32m     17\u001b[0m plt\u001b[38;5;241m.\u001b[39mtitle(\u001b[38;5;124m'\u001b[39m\u001b[38;5;124mInteraction Effect: Scientific Consensus on Human-Caused Climate Change and Comment Tone\u001b[39m\u001b[38;5;124m'\u001b[39m, fontsize\u001b[38;5;241m=\u001b[39m\u001b[38;5;241m16\u001b[39m)\n",
      "File \u001b[0;32m/usr/local/lib/python3.8/dist-packages/seaborn/_decorators.py:46\u001b[0m, in \u001b[0;36m_deprecate_positional_args.<locals>.inner_f\u001b[0;34m(*args, **kwargs)\u001b[0m\n\u001b[1;32m     36\u001b[0m     warnings\u001b[38;5;241m.\u001b[39mwarn(\n\u001b[1;32m     37\u001b[0m         \u001b[38;5;124m\"\u001b[39m\u001b[38;5;124mPass the following variable\u001b[39m\u001b[38;5;132;01m{}\u001b[39;00m\u001b[38;5;124m as \u001b[39m\u001b[38;5;132;01m{}\u001b[39;00m\u001b[38;5;124mkeyword arg\u001b[39m\u001b[38;5;132;01m{}\u001b[39;00m\u001b[38;5;124m: \u001b[39m\u001b[38;5;132;01m{}\u001b[39;00m\u001b[38;5;124m. \u001b[39m\u001b[38;5;124m\"\u001b[39m\n\u001b[1;32m     38\u001b[0m         \u001b[38;5;124m\"\u001b[39m\u001b[38;5;124mFrom version 0.12, the only valid positional argument \u001b[39m\u001b[38;5;124m\"\u001b[39m\n\u001b[0;32m   (...)\u001b[0m\n\u001b[1;32m     43\u001b[0m         \u001b[38;5;167;01mFutureWarning\u001b[39;00m\n\u001b[1;32m     44\u001b[0m     )\n\u001b[1;32m     45\u001b[0m kwargs\u001b[38;5;241m.\u001b[39mupdate({k: arg \u001b[38;5;28;01mfor\u001b[39;00m k, arg \u001b[38;5;129;01min\u001b[39;00m \u001b[38;5;28mzip\u001b[39m(sig\u001b[38;5;241m.\u001b[39mparameters, args)})\n\u001b[0;32m---> 46\u001b[0m \u001b[38;5;28;01mreturn\u001b[39;00m \u001b[43mf\u001b[49m\u001b[43m(\u001b[49m\u001b[38;5;241;43m*\u001b[39;49m\u001b[38;5;241;43m*\u001b[39;49m\u001b[43mkwargs\u001b[49m\u001b[43m)\u001b[49m\n",
      "File \u001b[0;32m/usr/local/lib/python3.8/dist-packages/seaborn/relational.py:684\u001b[0m, in \u001b[0;36mlineplot\u001b[0;34m(x, y, hue, size, style, data, palette, hue_order, hue_norm, sizes, size_order, size_norm, dashes, markers, style_order, units, estimator, ci, n_boot, seed, sort, err_style, err_kws, legend, ax, **kwargs)\u001b[0m\n\u001b[1;32m    677\u001b[0m variables \u001b[38;5;241m=\u001b[39m _LinePlotter\u001b[38;5;241m.\u001b[39mget_semantics(\u001b[38;5;28mlocals\u001b[39m())\n\u001b[1;32m    678\u001b[0m p \u001b[38;5;241m=\u001b[39m _LinePlotter(\n\u001b[1;32m    679\u001b[0m     data\u001b[38;5;241m=\u001b[39mdata, variables\u001b[38;5;241m=\u001b[39mvariables,\n\u001b[1;32m    680\u001b[0m     estimator\u001b[38;5;241m=\u001b[39mestimator, ci\u001b[38;5;241m=\u001b[39mci, n_boot\u001b[38;5;241m=\u001b[39mn_boot, seed\u001b[38;5;241m=\u001b[39mseed,\n\u001b[1;32m    681\u001b[0m     sort\u001b[38;5;241m=\u001b[39msort, err_style\u001b[38;5;241m=\u001b[39merr_style, err_kws\u001b[38;5;241m=\u001b[39merr_kws, legend\u001b[38;5;241m=\u001b[39mlegend,\n\u001b[1;32m    682\u001b[0m )\n\u001b[0;32m--> 684\u001b[0m \u001b[43mp\u001b[49m\u001b[38;5;241;43m.\u001b[39;49m\u001b[43mmap_hue\u001b[49m\u001b[43m(\u001b[49m\u001b[43mpalette\u001b[49m\u001b[38;5;241;43m=\u001b[39;49m\u001b[43mpalette\u001b[49m\u001b[43m,\u001b[49m\u001b[43m \u001b[49m\u001b[43morder\u001b[49m\u001b[38;5;241;43m=\u001b[39;49m\u001b[43mhue_order\u001b[49m\u001b[43m,\u001b[49m\u001b[43m \u001b[49m\u001b[43mnorm\u001b[49m\u001b[38;5;241;43m=\u001b[39;49m\u001b[43mhue_norm\u001b[49m\u001b[43m)\u001b[49m\n\u001b[1;32m    685\u001b[0m p\u001b[38;5;241m.\u001b[39mmap_size(sizes\u001b[38;5;241m=\u001b[39msizes, order\u001b[38;5;241m=\u001b[39msize_order, norm\u001b[38;5;241m=\u001b[39msize_norm)\n\u001b[1;32m    686\u001b[0m p\u001b[38;5;241m.\u001b[39mmap_style(markers\u001b[38;5;241m=\u001b[39mmarkers, dashes\u001b[38;5;241m=\u001b[39mdashes, order\u001b[38;5;241m=\u001b[39mstyle_order)\n",
      "File \u001b[0;32m/usr/local/lib/python3.8/dist-packages/seaborn/_core.py:53\u001b[0m, in \u001b[0;36mSemanticMapping.map\u001b[0;34m(cls, plotter, *args, **kwargs)\u001b[0m\n\u001b[1;32m     50\u001b[0m \u001b[38;5;28;01mdef\u001b[39;00m \u001b[38;5;21mmap\u001b[39m(\u001b[38;5;28mcls\u001b[39m, plotter, \u001b[38;5;241m*\u001b[39margs, \u001b[38;5;241m*\u001b[39m\u001b[38;5;241m*\u001b[39mkwargs):\n\u001b[1;32m     51\u001b[0m     \u001b[38;5;66;03m# This method is assigned the __init__ docstring\u001b[39;00m\n\u001b[1;32m     52\u001b[0m     method_name \u001b[38;5;241m=\u001b[39m \u001b[38;5;124m\"\u001b[39m\u001b[38;5;124m_\u001b[39m\u001b[38;5;132;01m{}\u001b[39;00m\u001b[38;5;124m_map\u001b[39m\u001b[38;5;124m\"\u001b[39m\u001b[38;5;241m.\u001b[39mformat(\u001b[38;5;28mcls\u001b[39m\u001b[38;5;241m.\u001b[39m\u001b[38;5;18m__name__\u001b[39m[:\u001b[38;5;241m-\u001b[39m\u001b[38;5;241m7\u001b[39m]\u001b[38;5;241m.\u001b[39mlower())\n\u001b[0;32m---> 53\u001b[0m     \u001b[38;5;28msetattr\u001b[39m(plotter, method_name, \u001b[38;5;28;43mcls\u001b[39;49m\u001b[43m(\u001b[49m\u001b[43mplotter\u001b[49m\u001b[43m,\u001b[49m\u001b[43m \u001b[49m\u001b[38;5;241;43m*\u001b[39;49m\u001b[43margs\u001b[49m\u001b[43m,\u001b[49m\u001b[43m \u001b[49m\u001b[38;5;241;43m*\u001b[39;49m\u001b[38;5;241;43m*\u001b[39;49m\u001b[43mkwargs\u001b[49m\u001b[43m)\u001b[49m)\n\u001b[1;32m     54\u001b[0m     \u001b[38;5;28;01mreturn\u001b[39;00m plotter\n",
      "File \u001b[0;32m/usr/local/lib/python3.8/dist-packages/seaborn/_core.py:118\u001b[0m, in \u001b[0;36mHueMapping.__init__\u001b[0;34m(self, plotter, palette, order, norm)\u001b[0m\n\u001b[1;32m    115\u001b[0m \u001b[38;5;28;01melif\u001b[39;00m map_type \u001b[38;5;241m==\u001b[39m \u001b[38;5;124m\"\u001b[39m\u001b[38;5;124mcategorical\u001b[39m\u001b[38;5;124m\"\u001b[39m:\n\u001b[1;32m    117\u001b[0m     cmap \u001b[38;5;241m=\u001b[39m norm \u001b[38;5;241m=\u001b[39m \u001b[38;5;28;01mNone\u001b[39;00m\n\u001b[0;32m--> 118\u001b[0m     levels, lookup_table \u001b[38;5;241m=\u001b[39m \u001b[38;5;28;43mself\u001b[39;49m\u001b[38;5;241;43m.\u001b[39;49m\u001b[43mcategorical_mapping\u001b[49m\u001b[43m(\u001b[49m\n\u001b[1;32m    119\u001b[0m \u001b[43m        \u001b[49m\u001b[43mdata\u001b[49m\u001b[43m,\u001b[49m\u001b[43m \u001b[49m\u001b[43mpalette\u001b[49m\u001b[43m,\u001b[49m\u001b[43m \u001b[49m\u001b[43morder\u001b[49m\u001b[43m,\u001b[49m\n\u001b[1;32m    120\u001b[0m \u001b[43m    \u001b[49m\u001b[43m)\u001b[49m\n\u001b[1;32m    122\u001b[0m \u001b[38;5;66;03m# --- Option 3: datetime mapping\u001b[39;00m\n\u001b[1;32m    123\u001b[0m \n\u001b[1;32m    124\u001b[0m \u001b[38;5;28;01melse\u001b[39;00m:\n\u001b[1;32m    125\u001b[0m     \u001b[38;5;66;03m# TODO this needs actual implementation\u001b[39;00m\n\u001b[1;32m    126\u001b[0m     cmap \u001b[38;5;241m=\u001b[39m norm \u001b[38;5;241m=\u001b[39m \u001b[38;5;28;01mNone\u001b[39;00m\n",
      "File \u001b[0;32m/usr/local/lib/python3.8/dist-packages/seaborn/_core.py:204\u001b[0m, in \u001b[0;36mHueMapping.categorical_mapping\u001b[0;34m(self, data, palette, order)\u001b[0m\n\u001b[1;32m    202\u001b[0m     \u001b[38;5;28;01mif\u001b[39;00m \u001b[38;5;28mlen\u001b[39m(palette) \u001b[38;5;241m!=\u001b[39m n_colors:\n\u001b[1;32m    203\u001b[0m         err \u001b[38;5;241m=\u001b[39m \u001b[38;5;124m\"\u001b[39m\u001b[38;5;124mThe palette list has the wrong number of colors.\u001b[39m\u001b[38;5;124m\"\u001b[39m\n\u001b[0;32m--> 204\u001b[0m         \u001b[38;5;28;01mraise\u001b[39;00m \u001b[38;5;167;01mValueError\u001b[39;00m(err)\n\u001b[1;32m    205\u001b[0m     colors \u001b[38;5;241m=\u001b[39m palette\n\u001b[1;32m    206\u001b[0m \u001b[38;5;28;01melse\u001b[39;00m:\n",
      "\u001b[0;31mValueError\u001b[0m: The palette list has the wrong number of colors."
     ]
    },
    {
     "data": {
      "text/plain": [
       "<Figure size 1400x1000 with 0 Axes>"
      ]
     },
     "metadata": {},
     "output_type": "display_data"
    }
   ],
   "source": [
    "interaction_data = pd.DataFrame({\n",
    "    'scientific_consensus_pro_klimaat': np.linspace(df['scientific_consensus_pro_klimaat'].min(),\n",
    "                                                    df['scientific_consensus_pro_klimaat'].max(), 100),\n",
    "    'comment_pro_klimaat_Ja': [0, 1] * 50,  # Two levels for interaction\n",
    "})\n",
    "\n",
    "predicted_probs = result.predict(interaction_data)\n",
    "\n",
    "sns.set(style='whitegrid')\n",
    "\n",
    "# Create a more visually appealing interaction plot\n",
    "plt.figure(figsize=(14, 10))\n",
    "sns.lineplot(x='scientific_consensus_pro_klimaat', y=predicted_probs, hue='comment_pro_klimaat_Ja', data=interaction_data,\n",
    "             palette=sns.color_palette('Set2'), linewidth=2)\n",
    "\n",
    "# Set plot title and labels\n",
    "plt.title('Interaction Effect: Scientific Consensus on Human-Caused Climate Change and Comment Tone', fontsize=16)\n",
    "plt.xlabel('Scientific Consensus on Human-Caused Climate Change', fontsize=14)\n",
    "plt.ylabel('Predicted Probability of Respectful Tone in Comment', fontsize=14)\n",
    "\n",
    "# Customize legend\n",
    "plt.legend(title='Comment Tone (0 = Neutral or Denial, 1 = Climate change is real)', fontsize=12, title_fontsize=14)\n",
    "\n",
    "# Display the plot\n",
    "plt.show()\n"
   ]
  },
  {
   "cell_type": "code",
   "execution_count": 37,
   "id": "330708d6",
   "metadata": {},
   "outputs": [
    {
     "ename": "PatsyError",
     "evalue": "predict requires that you use a DataFrame when predicting from a model\nthat was created using the formula api.\n\nThe original error message returned by patsy is:\nError evaluating factor: NameError: name 'comment_pro_klimaat_Ja' is not defined\n    comment_respectvol_Eens ~ scientific_consensus_pro_klimaat * comment_pro_klimaat_Ja\n                                                                 ^^^^^^^^^^^^^^^^^^^^^^",
     "output_type": "error",
     "traceback": [
      "\u001b[0;31m---------------------------------------------------------------------------\u001b[0m",
      "\u001b[0;31mNameError\u001b[0m                                 Traceback (most recent call last)",
      "File \u001b[0;32m~/.local/lib/python3.8/site-packages/patsy/compat.py:36\u001b[0m, in \u001b[0;36mcall_and_wrap_exc\u001b[0;34m(msg, origin, f, *args, **kwargs)\u001b[0m\n\u001b[1;32m     35\u001b[0m \u001b[38;5;28;01mtry\u001b[39;00m:\n\u001b[0;32m---> 36\u001b[0m     \u001b[38;5;28;01mreturn\u001b[39;00m \u001b[43mf\u001b[49m\u001b[43m(\u001b[49m\u001b[38;5;241;43m*\u001b[39;49m\u001b[43margs\u001b[49m\u001b[43m,\u001b[49m\u001b[43m \u001b[49m\u001b[38;5;241;43m*\u001b[39;49m\u001b[38;5;241;43m*\u001b[39;49m\u001b[43mkwargs\u001b[49m\u001b[43m)\u001b[49m\n\u001b[1;32m     37\u001b[0m \u001b[38;5;28;01mexcept\u001b[39;00m \u001b[38;5;167;01mException\u001b[39;00m \u001b[38;5;28;01mas\u001b[39;00m e:\n",
      "File \u001b[0;32m~/.local/lib/python3.8/site-packages/patsy/eval.py:165\u001b[0m, in \u001b[0;36mEvalEnvironment.eval\u001b[0;34m(self, expr, source_name, inner_namespace)\u001b[0m\n\u001b[1;32m    164\u001b[0m code \u001b[38;5;241m=\u001b[39m \u001b[38;5;28mcompile\u001b[39m(expr, source_name, \u001b[38;5;124m\"\u001b[39m\u001b[38;5;124meval\u001b[39m\u001b[38;5;124m\"\u001b[39m, \u001b[38;5;28mself\u001b[39m\u001b[38;5;241m.\u001b[39mflags, \u001b[38;5;28;01mFalse\u001b[39;00m)\n\u001b[0;32m--> 165\u001b[0m \u001b[38;5;28;01mreturn\u001b[39;00m \u001b[38;5;28;43meval\u001b[39;49m\u001b[43m(\u001b[49m\u001b[43mcode\u001b[49m\u001b[43m,\u001b[49m\u001b[43m \u001b[49m\u001b[43m{\u001b[49m\u001b[43m}\u001b[49m\u001b[43m,\u001b[49m\u001b[43m \u001b[49m\u001b[43mVarLookupDict\u001b[49m\u001b[43m(\u001b[49m\u001b[43m[\u001b[49m\u001b[43minner_namespace\u001b[49m\u001b[43m]\u001b[49m\n\u001b[1;32m    166\u001b[0m \u001b[43m                                    \u001b[49m\u001b[38;5;241;43m+\u001b[39;49m\u001b[43m \u001b[49m\u001b[38;5;28;43mself\u001b[39;49m\u001b[38;5;241;43m.\u001b[39;49m\u001b[43m_namespaces\u001b[49m\u001b[43m)\u001b[49m\u001b[43m)\u001b[49m\n",
      "File \u001b[0;32m<string>:1\u001b[0m\n",
      "\u001b[0;31mNameError\u001b[0m: name 'comment_pro_klimaat_Ja' is not defined",
      "\nThe above exception was the direct cause of the following exception:\n",
      "\u001b[0;31mPatsyError\u001b[0m                                Traceback (most recent call last)",
      "File \u001b[0;32m~/.local/lib/python3.8/site-packages/statsmodels/base/model.py:1137\u001b[0m, in \u001b[0;36mResults.predict\u001b[0;34m(self, exog, transform, *args, **kwargs)\u001b[0m\n\u001b[1;32m   1136\u001b[0m \u001b[38;5;28;01mtry\u001b[39;00m:\n\u001b[0;32m-> 1137\u001b[0m     exog \u001b[38;5;241m=\u001b[39m \u001b[43mdmatrix\u001b[49m\u001b[43m(\u001b[49m\u001b[43mdesign_info\u001b[49m\u001b[43m,\u001b[49m\u001b[43m \u001b[49m\u001b[43mexog\u001b[49m\u001b[43m,\u001b[49m\u001b[43m \u001b[49m\u001b[43mreturn_type\u001b[49m\u001b[38;5;241;43m=\u001b[39;49m\u001b[38;5;124;43m\"\u001b[39;49m\u001b[38;5;124;43mdataframe\u001b[39;49m\u001b[38;5;124;43m\"\u001b[39;49m\u001b[43m)\u001b[49m\n\u001b[1;32m   1138\u001b[0m \u001b[38;5;28;01mexcept\u001b[39;00m \u001b[38;5;167;01mException\u001b[39;00m \u001b[38;5;28;01mas\u001b[39;00m exc:\n",
      "File \u001b[0;32m~/.local/lib/python3.8/site-packages/patsy/highlevel.py:290\u001b[0m, in \u001b[0;36mdmatrix\u001b[0;34m(formula_like, data, eval_env, NA_action, return_type)\u001b[0m\n\u001b[1;32m    289\u001b[0m eval_env \u001b[38;5;241m=\u001b[39m EvalEnvironment\u001b[38;5;241m.\u001b[39mcapture(eval_env, reference\u001b[38;5;241m=\u001b[39m\u001b[38;5;241m1\u001b[39m)\n\u001b[0;32m--> 290\u001b[0m (lhs, rhs) \u001b[38;5;241m=\u001b[39m \u001b[43m_do_highlevel_design\u001b[49m\u001b[43m(\u001b[49m\u001b[43mformula_like\u001b[49m\u001b[43m,\u001b[49m\u001b[43m \u001b[49m\u001b[43mdata\u001b[49m\u001b[43m,\u001b[49m\u001b[43m \u001b[49m\u001b[43meval_env\u001b[49m\u001b[43m,\u001b[49m\n\u001b[1;32m    291\u001b[0m \u001b[43m                                  \u001b[49m\u001b[43mNA_action\u001b[49m\u001b[43m,\u001b[49m\u001b[43m \u001b[49m\u001b[43mreturn_type\u001b[49m\u001b[43m)\u001b[49m\n\u001b[1;32m    292\u001b[0m \u001b[38;5;28;01mif\u001b[39;00m lhs\u001b[38;5;241m.\u001b[39mshape[\u001b[38;5;241m1\u001b[39m] \u001b[38;5;241m!=\u001b[39m \u001b[38;5;241m0\u001b[39m:\n",
      "File \u001b[0;32m~/.local/lib/python3.8/site-packages/patsy/highlevel.py:167\u001b[0m, in \u001b[0;36m_do_highlevel_design\u001b[0;34m(formula_like, data, eval_env, NA_action, return_type)\u001b[0m\n\u001b[1;32m    166\u001b[0m \u001b[38;5;28;01mif\u001b[39;00m design_infos \u001b[38;5;129;01mis\u001b[39;00m \u001b[38;5;129;01mnot\u001b[39;00m \u001b[38;5;28;01mNone\u001b[39;00m:\n\u001b[0;32m--> 167\u001b[0m     \u001b[38;5;28;01mreturn\u001b[39;00m \u001b[43mbuild_design_matrices\u001b[49m\u001b[43m(\u001b[49m\u001b[43mdesign_infos\u001b[49m\u001b[43m,\u001b[49m\u001b[43m \u001b[49m\u001b[43mdata\u001b[49m\u001b[43m,\u001b[49m\n\u001b[1;32m    168\u001b[0m \u001b[43m                                 \u001b[49m\u001b[43mNA_action\u001b[49m\u001b[38;5;241;43m=\u001b[39;49m\u001b[43mNA_action\u001b[49m\u001b[43m,\u001b[49m\n\u001b[1;32m    169\u001b[0m \u001b[43m                                 \u001b[49m\u001b[43mreturn_type\u001b[49m\u001b[38;5;241;43m=\u001b[39;49m\u001b[43mreturn_type\u001b[49m\u001b[43m)\u001b[49m\n\u001b[1;32m    170\u001b[0m \u001b[38;5;28;01melse\u001b[39;00m:\n\u001b[1;32m    171\u001b[0m     \u001b[38;5;66;03m# No builders, but maybe we can still get matrices\u001b[39;00m\n",
      "File \u001b[0;32m~/.local/lib/python3.8/site-packages/patsy/build.py:888\u001b[0m, in \u001b[0;36mbuild_design_matrices\u001b[0;34m(design_infos, data, NA_action, return_type, dtype)\u001b[0m\n\u001b[1;32m    887\u001b[0m \u001b[38;5;28;01mif\u001b[39;00m factor_info \u001b[38;5;129;01mnot\u001b[39;00m \u001b[38;5;129;01min\u001b[39;00m factor_info_to_values:\n\u001b[0;32m--> 888\u001b[0m     value, is_NA \u001b[38;5;241m=\u001b[39m \u001b[43m_eval_factor\u001b[49m\u001b[43m(\u001b[49m\u001b[43mfactor_info\u001b[49m\u001b[43m,\u001b[49m\u001b[43m \u001b[49m\u001b[43mdata\u001b[49m\u001b[43m,\u001b[49m\u001b[43m \u001b[49m\u001b[43mNA_action\u001b[49m\u001b[43m)\u001b[49m\n\u001b[1;32m    889\u001b[0m     factor_info_to_isNAs[factor_info] \u001b[38;5;241m=\u001b[39m is_NA\n",
      "File \u001b[0;32m~/.local/lib/python3.8/site-packages/patsy/build.py:63\u001b[0m, in \u001b[0;36m_eval_factor\u001b[0;34m(factor_info, data, NA_action)\u001b[0m\n\u001b[1;32m     62\u001b[0m factor \u001b[38;5;241m=\u001b[39m factor_info\u001b[38;5;241m.\u001b[39mfactor\n\u001b[0;32m---> 63\u001b[0m result \u001b[38;5;241m=\u001b[39m \u001b[43mfactor\u001b[49m\u001b[38;5;241;43m.\u001b[39;49m\u001b[43meval\u001b[49m\u001b[43m(\u001b[49m\u001b[43mfactor_info\u001b[49m\u001b[38;5;241;43m.\u001b[39;49m\u001b[43mstate\u001b[49m\u001b[43m,\u001b[49m\u001b[43m \u001b[49m\u001b[43mdata\u001b[49m\u001b[43m)\u001b[49m\n\u001b[1;32m     64\u001b[0m \u001b[38;5;66;03m# Returns either a 2d ndarray, or a DataFrame, plus is_NA mask\u001b[39;00m\n",
      "File \u001b[0;32m~/.local/lib/python3.8/site-packages/patsy/eval.py:564\u001b[0m, in \u001b[0;36mEvalFactor.eval\u001b[0;34m(self, memorize_state, data)\u001b[0m\n\u001b[1;32m    563\u001b[0m \u001b[38;5;28;01mdef\u001b[39;00m \u001b[38;5;21meval\u001b[39m(\u001b[38;5;28mself\u001b[39m, memorize_state, data):\n\u001b[0;32m--> 564\u001b[0m     \u001b[38;5;28;01mreturn\u001b[39;00m \u001b[38;5;28;43mself\u001b[39;49m\u001b[38;5;241;43m.\u001b[39;49m\u001b[43m_eval\u001b[49m\u001b[43m(\u001b[49m\u001b[43mmemorize_state\u001b[49m\u001b[43m[\u001b[49m\u001b[38;5;124;43m\"\u001b[39;49m\u001b[38;5;124;43meval_code\u001b[39;49m\u001b[38;5;124;43m\"\u001b[39;49m\u001b[43m]\u001b[49m\u001b[43m,\u001b[49m\n\u001b[1;32m    565\u001b[0m \u001b[43m                      \u001b[49m\u001b[43mmemorize_state\u001b[49m\u001b[43m,\u001b[49m\n\u001b[1;32m    566\u001b[0m \u001b[43m                      \u001b[49m\u001b[43mdata\u001b[49m\u001b[43m)\u001b[49m\n",
      "File \u001b[0;32m~/.local/lib/python3.8/site-packages/patsy/eval.py:547\u001b[0m, in \u001b[0;36mEvalFactor._eval\u001b[0;34m(self, code, memorize_state, data)\u001b[0m\n\u001b[1;32m    546\u001b[0m inner_namespace \u001b[38;5;241m=\u001b[39m VarLookupDict([data, memorize_state[\u001b[38;5;124m\"\u001b[39m\u001b[38;5;124mtransforms\u001b[39m\u001b[38;5;124m\"\u001b[39m]])\n\u001b[0;32m--> 547\u001b[0m \u001b[38;5;28;01mreturn\u001b[39;00m \u001b[43mcall_and_wrap_exc\u001b[49m\u001b[43m(\u001b[49m\u001b[38;5;124;43m\"\u001b[39;49m\u001b[38;5;124;43mError evaluating factor\u001b[39;49m\u001b[38;5;124;43m\"\u001b[39;49m\u001b[43m,\u001b[49m\n\u001b[1;32m    548\u001b[0m \u001b[43m                         \u001b[49m\u001b[38;5;28;43mself\u001b[39;49m\u001b[43m,\u001b[49m\n\u001b[1;32m    549\u001b[0m \u001b[43m                         \u001b[49m\u001b[43mmemorize_state\u001b[49m\u001b[43m[\u001b[49m\u001b[38;5;124;43m\"\u001b[39;49m\u001b[38;5;124;43meval_env\u001b[39;49m\u001b[38;5;124;43m\"\u001b[39;49m\u001b[43m]\u001b[49m\u001b[38;5;241;43m.\u001b[39;49m\u001b[43meval\u001b[49m\u001b[43m,\u001b[49m\n\u001b[1;32m    550\u001b[0m \u001b[43m                         \u001b[49m\u001b[43mcode\u001b[49m\u001b[43m,\u001b[49m\n\u001b[1;32m    551\u001b[0m \u001b[43m                         \u001b[49m\u001b[43minner_namespace\u001b[49m\u001b[38;5;241;43m=\u001b[39;49m\u001b[43minner_namespace\u001b[49m\u001b[43m)\u001b[49m\n",
      "File \u001b[0;32m~/.local/lib/python3.8/site-packages/patsy/compat.py:43\u001b[0m, in \u001b[0;36mcall_and_wrap_exc\u001b[0;34m(msg, origin, f, *args, **kwargs)\u001b[0m\n\u001b[1;32m     42\u001b[0m     \u001b[38;5;66;03m# Use 'exec' to hide this syntax from the Python 2 parser:\u001b[39;00m\n\u001b[0;32m---> 43\u001b[0m     \u001b[43mexec\u001b[49m\u001b[43m(\u001b[49m\u001b[38;5;124;43m\"\u001b[39;49m\u001b[38;5;124;43mraise new_exc from e\u001b[39;49m\u001b[38;5;124;43m\"\u001b[39;49m\u001b[43m)\u001b[49m\n\u001b[1;32m     44\u001b[0m \u001b[38;5;28;01melse\u001b[39;00m:\n\u001b[1;32m     45\u001b[0m     \u001b[38;5;66;03m# In python 2, we just let the original exception escape -- better\u001b[39;00m\n\u001b[1;32m     46\u001b[0m     \u001b[38;5;66;03m# than destroying the traceback. But if it's a PatsyError, we can\u001b[39;00m\n\u001b[1;32m     47\u001b[0m     \u001b[38;5;66;03m# at least set the origin properly.\u001b[39;00m\n",
      "File \u001b[0;32m<string>:1\u001b[0m\n",
      "\u001b[0;31mPatsyError\u001b[0m: Error evaluating factor: NameError: name 'comment_pro_klimaat_Ja' is not defined\n    comment_respectvol_Eens ~ scientific_consensus_pro_klimaat * comment_pro_klimaat_Ja\n                                                                 ^^^^^^^^^^^^^^^^^^^^^^",
      "\nDuring handling of the above exception, another exception occurred:\n",
      "\u001b[0;31mPatsyError\u001b[0m                                Traceback (most recent call last)",
      "Cell \u001b[0;32mIn[37], line 15\u001b[0m\n\u001b[1;32m      5\u001b[0m interaction_data \u001b[38;5;241m=\u001b[39m pd\u001b[38;5;241m.\u001b[39mDataFrame({\u001b[38;5;124m'\u001b[39m\u001b[38;5;124mscientific_consensus_pro_klimaat\u001b[39m\u001b[38;5;124m'\u001b[39m: np\u001b[38;5;241m.\u001b[39mlinspace(df[\u001b[38;5;124m'\u001b[39m\u001b[38;5;124mscientific_consensus_pro_klimaat\u001b[39m\u001b[38;5;124m'\u001b[39m]\u001b[38;5;241m.\u001b[39mmin(),\n\u001b[1;32m      6\u001b[0m                                                                                df[\u001b[38;5;124m'\u001b[39m\u001b[38;5;124mscientific_consensus_pro_klimaat\u001b[39m\u001b[38;5;124m'\u001b[39m]\u001b[38;5;241m.\u001b[39mmax(), \u001b[38;5;241m100\u001b[39m),\n\u001b[1;32m      7\u001b[0m                                  \u001b[38;5;124m'\u001b[39m\u001b[38;5;124mcomment_pro_klimaat_Nee\u001b[39m\u001b[38;5;124m'\u001b[39m: [\u001b[38;5;241m0\u001b[39m, \u001b[38;5;241m1\u001b[39m] \u001b[38;5;241m*\u001b[39m \u001b[38;5;241m50\u001b[39m,  \u001b[38;5;66;03m# Two levels for interaction\u001b[39;00m\n\u001b[0;32m   (...)\u001b[0m\n\u001b[1;32m     11\u001b[0m                                  \u001b[38;5;124m'\u001b[39m\u001b[38;5;124mage\u001b[39m\u001b[38;5;124m'\u001b[39m: df[\u001b[38;5;124m'\u001b[39m\u001b[38;5;124mage\u001b[39m\u001b[38;5;124m'\u001b[39m]\u001b[38;5;241m.\u001b[39mmean(),\n\u001b[1;32m     12\u001b[0m                                  \u001b[38;5;124m'\u001b[39m\u001b[38;5;124mcomment_nr\u001b[39m\u001b[38;5;124m'\u001b[39m: df[\u001b[38;5;124m'\u001b[39m\u001b[38;5;124mcomment_nr\u001b[39m\u001b[38;5;124m'\u001b[39m]\u001b[38;5;241m.\u001b[39mmean()})\n\u001b[1;32m     14\u001b[0m \u001b[38;5;66;03m# Predict probabilities for each level of the interacting variables\u001b[39;00m\n\u001b[0;32m---> 15\u001b[0m predicted_probs \u001b[38;5;241m=\u001b[39m \u001b[43mresult\u001b[49m\u001b[38;5;241;43m.\u001b[39;49m\u001b[43mpredict\u001b[49m\u001b[43m(\u001b[49m\u001b[43minteraction_data\u001b[49m\u001b[43m)\u001b[49m\n\u001b[1;32m     17\u001b[0m \u001b[38;5;66;03m# Create interaction plot\u001b[39;00m\n\u001b[1;32m     18\u001b[0m plt\u001b[38;5;241m.\u001b[39mfigure(figsize\u001b[38;5;241m=\u001b[39m(\u001b[38;5;241m10\u001b[39m, \u001b[38;5;241m6\u001b[39m))\n",
      "File \u001b[0;32m~/.local/lib/python3.8/site-packages/statsmodels/base/model.py:1144\u001b[0m, in \u001b[0;36mResults.predict\u001b[0;34m(self, exog, transform, *args, **kwargs)\u001b[0m\n\u001b[1;32m   1138\u001b[0m \u001b[38;5;28;01mexcept\u001b[39;00m \u001b[38;5;167;01mException\u001b[39;00m \u001b[38;5;28;01mas\u001b[39;00m exc:\n\u001b[1;32m   1139\u001b[0m     msg \u001b[38;5;241m=\u001b[39m (\u001b[38;5;124m'\u001b[39m\u001b[38;5;124mpredict requires that you use a DataFrame when \u001b[39m\u001b[38;5;124m'\u001b[39m\n\u001b[1;32m   1140\u001b[0m            \u001b[38;5;124m'\u001b[39m\u001b[38;5;124mpredicting from a model\u001b[39m\u001b[38;5;130;01m\\n\u001b[39;00m\u001b[38;5;124mthat was created using the \u001b[39m\u001b[38;5;124m'\u001b[39m\n\u001b[1;32m   1141\u001b[0m            \u001b[38;5;124m'\u001b[39m\u001b[38;5;124mformula api.\u001b[39m\u001b[38;5;124m'\u001b[39m\n\u001b[1;32m   1142\u001b[0m            \u001b[38;5;124m'\u001b[39m\u001b[38;5;130;01m\\n\u001b[39;00m\u001b[38;5;130;01m\\n\u001b[39;00m\u001b[38;5;124mThe original error message returned by patsy is:\u001b[39m\u001b[38;5;130;01m\\n\u001b[39;00m\u001b[38;5;124m'\u001b[39m\n\u001b[1;32m   1143\u001b[0m            \u001b[38;5;124m'\u001b[39m\u001b[38;5;132;01m{0}\u001b[39;00m\u001b[38;5;124m'\u001b[39m\u001b[38;5;241m.\u001b[39mformat(\u001b[38;5;28mstr\u001b[39m(\u001b[38;5;28mstr\u001b[39m(exc))))\n\u001b[0;32m-> 1144\u001b[0m     \u001b[38;5;28;01mraise\u001b[39;00m exc\u001b[38;5;241m.\u001b[39m\u001b[38;5;18m__class__\u001b[39m(msg)\n\u001b[1;32m   1145\u001b[0m \u001b[38;5;28;01mif\u001b[39;00m orig_exog_len \u001b[38;5;241m>\u001b[39m \u001b[38;5;28mlen\u001b[39m(exog) \u001b[38;5;129;01mand\u001b[39;00m \u001b[38;5;129;01mnot\u001b[39;00m is_dict:\n\u001b[1;32m   1146\u001b[0m     \u001b[38;5;28;01mif\u001b[39;00m exog_index \u001b[38;5;129;01mis\u001b[39;00m \u001b[38;5;28;01mNone\u001b[39;00m:\n",
      "\u001b[0;31mPatsyError\u001b[0m: predict requires that you use a DataFrame when predicting from a model\nthat was created using the formula api.\n\nThe original error message returned by patsy is:\nError evaluating factor: NameError: name 'comment_pro_klimaat_Ja' is not defined\n    comment_respectvol_Eens ~ scientific_consensus_pro_klimaat * comment_pro_klimaat_Ja\n                                                                 ^^^^^^^^^^^^^^^^^^^^^^"
     ]
    }
   ],
   "source": [
    "\n",
    "# Assuming 'result' is your fitted model result\n",
    "# Replace this with your actual result\n",
    "\n",
    "# Generate data for interaction plot\n",
    "interaction_data = pd.DataFrame({'scientific_consensus_pro_klimaat': np.linspace(df['scientific_consensus_pro_klimaat'].min(),\n",
    "                                                                               df['scientific_consensus_pro_klimaat'].max(), 100),\n",
    "                                 'comment_pro_klimaat_Nee': [0, 1] * 50,  # Two levels for interaction\n",
    "                                 'male_dummy': df['male_dummy'].mean(),  # Mean value for other variables\n",
    "                                 'recoded_education': df['recoded_education_hoger'].mean(),\n",
    "                                 'scale_importance': df['scale_importance'].mean(),\n",
    "                                 'age': df['age'].mean(),\n",
    "                                 'comment_nr': df['comment_nr'].mean()})\n",
    "\n",
    "# Predict probabilities for each level of the interacting variables\n",
    "predicted_probs = result.predict(interaction_data)\n",
    "\n",
    "# Create interaction plot\n",
    "plt.figure(figsize=(10, 6))\n",
    "sns.lineplot(x='scientific_consensus_pro_klimaat', y=predicted_probs, hue='comment_pro_klimaat_Nee', data=interaction_data)\n",
    "plt.title('Interaction Effect: scientific_consensus_pro_klimaat * comment_pro_klimaat_Nee')\n",
    "plt.xlabel('scientific_consensus_pro_klimaat')\n",
    "plt.ylabel('Predicted Probability of comment_respectvol_Eens')\n",
    "plt.legend(title='comment_pro_klimaat_Nee')\n",
    "plt.show()\n"
   ]
  },
  {
   "cell_type": "code",
   "execution_count": 38,
   "id": "ab8ec03c",
   "metadata": {},
   "outputs": [
    {
     "name": "stderr",
     "output_type": "stream",
     "text": [
      "/home/damian/.local/lib/python3.8/site-packages/statsmodels/base/model.py:604: ConvergenceWarning: Maximum Likelihood optimization failed to converge. Check mle_retvals\n",
      "  warnings.warn(\"Maximum Likelihood optimization failed to \"\n",
      "/home/damian/.local/lib/python3.8/site-packages/statsmodels/regression/mixed_linear_model.py:2200: ConvergenceWarning: Retrying MixedLM optimization with lbfgs\n",
      "  warnings.warn(\n",
      "/home/damian/.local/lib/python3.8/site-packages/statsmodels/regression/mixed_linear_model.py:2237: ConvergenceWarning: The MLE may be on the boundary of the parameter space.\n",
      "  warnings.warn(msg, ConvergenceWarning)\n"
     ]
    },
    {
     "name": "stdout",
     "output_type": "stream",
     "text": [
      "                    Mixed Linear Model Regression Results\n",
      "=============================================================================\n",
      "Model:            MixedLM Dependent Variable: comment_inhoudelijk_argument_Ja\n",
      "No. Observations: 42483   Method:             REML                           \n",
      "No. Groups:       1504    Scale:              0.2025                         \n",
      "Min. group size:  11      Log-Likelihood:     -27717.7504                    \n",
      "Max. group size:  34      Converged:          Yes                            \n",
      "Mean group size:  28.2                                                       \n",
      "-----------------------------------------------------------------------------\n",
      "                                   Coef.  Std.Err.   z    P>|z| [0.025 0.975]\n",
      "-----------------------------------------------------------------------------\n",
      "Intercept                           0.273    0.030  9.102 0.000  0.214  0.332\n",
      "recoded_education[T.Lager]          0.082    0.011  7.468 0.000  0.061  0.104\n",
      "age                                -0.000    0.000 -0.320 0.749 -0.001  0.001\n",
      "male_dummy                          0.010    0.011  0.917 0.359 -0.011  0.031\n",
      "scale_importance                    0.029    0.006  4.999 0.000  0.018  0.041\n",
      "scientific_consensus_pro_klimaat   -0.015    0.005 -3.020 0.003 -0.024 -0.005\n",
      "comment_respectvol_Eens             0.208    0.005 40.507 0.000  0.198  0.218\n",
      "comment_nr                         -0.010    0.001 -8.460 0.000 -0.013 -0.008\n",
      "Group Var                           0.039    0.008                           \n",
      "Group x tweet_id Cov               -0.000    0.000                           \n",
      "tweet_id Var                        0.000    0.000                           \n",
      "=============================================================================\n",
      "\n"
     ]
    }
   ],
   "source": [
    "\n",
    "formula = 'comment_inhoudelijk_argument_Ja  ~ age + male_dummy + recoded_education + scale_importance + scientific_consensus_pro_klimaat + comment_respectvol_Eens + comment_nr'\n",
    "model = smf.mixedlm(formula, df, groups=df['coder'], re_formula='1 + tweet_id')\n",
    "result = model.fit()\n",
    "\n",
    "print(result.summary())"
   ]
  },
  {
   "cell_type": "code",
   "execution_count": 39,
   "id": "f97365bc",
   "metadata": {},
   "outputs": [
    {
     "name": "stderr",
     "output_type": "stream",
     "text": [
      "/home/damian/.local/lib/python3.8/site-packages/statsmodels/base/model.py:604: ConvergenceWarning: Maximum Likelihood optimization failed to converge. Check mle_retvals\n",
      "  warnings.warn(\"Maximum Likelihood optimization failed to \"\n",
      "/home/damian/.local/lib/python3.8/site-packages/statsmodels/regression/mixed_linear_model.py:2200: ConvergenceWarning: Retrying MixedLM optimization with lbfgs\n",
      "  warnings.warn(\n",
      "/home/damian/.local/lib/python3.8/site-packages/statsmodels/regression/mixed_linear_model.py:2237: ConvergenceWarning: The MLE may be on the boundary of the parameter space.\n",
      "  warnings.warn(msg, ConvergenceWarning)\n"
     ]
    },
    {
     "name": "stdout",
     "output_type": "stream",
     "text": [
      "                   Mixed Linear Model Regression Results\n",
      "===========================================================================\n",
      "Model:                MixedLM   Dependent Variable:   tweet_pro_klimaat_Nee\n",
      "No. Observations:     42483     Method:               REML                 \n",
      "No. Groups:           1504      Scale:                0.1288               \n",
      "Min. group size:      11        Log-Likelihood:       -18771.4146          \n",
      "Max. group size:      34        Converged:            Yes                  \n",
      "Mean group size:      28.2                                                 \n",
      "---------------------------------------------------------------------------\n",
      "                                 Coef.  Std.Err.   z    P>|z| [0.025 0.975]\n",
      "---------------------------------------------------------------------------\n",
      "Intercept                         0.277    0.036  7.580 0.000  0.205  0.348\n",
      "recoded_education[T.Lager]       -0.059    0.014 -4.344 0.000 -0.086 -0.033\n",
      "age                               0.003    0.000  7.159 0.000  0.002  0.004\n",
      "male_dummy                        0.009    0.013  0.658 0.510 -0.017  0.034\n",
      "scale_importance                 -0.029    0.007 -3.957 0.000 -0.043 -0.015\n",
      "scientific_consensus_pro_klimaat  0.004    0.006  0.635 0.525 -0.008  0.016\n",
      "Group Var                         0.082    0.019                           \n",
      "Group x tweet_id Cov             -0.000    0.000                           \n",
      "tweet_id Var                      0.000    0.000                           \n",
      "===========================================================================\n",
      "\n"
     ]
    }
   ],
   "source": [
    "\n",
    "formula = 'tweet_pro_klimaat_Nee ~ age + male_dummy + recoded_education + scale_importance + scientific_consensus_pro_klimaat'\n",
    "model = smf.mixedlm(formula, df, groups=df['coder'], re_formula='1 + tweet_id')\n",
    "result = model.fit()\n",
    "\n",
    "print(result.summary())"
   ]
  },
  {
   "cell_type": "code",
   "execution_count": 40,
   "id": "db911fd1",
   "metadata": {},
   "outputs": [
    {
     "name": "stderr",
     "output_type": "stream",
     "text": [
      "/home/damian/.local/lib/python3.8/site-packages/statsmodels/base/model.py:604: ConvergenceWarning: Maximum Likelihood optimization failed to converge. Check mle_retvals\n",
      "  warnings.warn(\"Maximum Likelihood optimization failed to \"\n",
      "/home/damian/.local/lib/python3.8/site-packages/statsmodels/regression/mixed_linear_model.py:2200: ConvergenceWarning: Retrying MixedLM optimization with lbfgs\n",
      "  warnings.warn(\n",
      "/home/damian/.local/lib/python3.8/site-packages/statsmodels/base/model.py:604: ConvergenceWarning: Maximum Likelihood optimization failed to converge. Check mle_retvals\n",
      "  warnings.warn(\"Maximum Likelihood optimization failed to \"\n",
      "/home/damian/.local/lib/python3.8/site-packages/statsmodels/regression/mixed_linear_model.py:2200: ConvergenceWarning: Retrying MixedLM optimization with cg\n",
      "  warnings.warn(\n",
      "/home/damian/.local/lib/python3.8/site-packages/statsmodels/base/model.py:604: ConvergenceWarning: Maximum Likelihood optimization failed to converge. Check mle_retvals\n",
      "  warnings.warn(\"Maximum Likelihood optimization failed to \"\n",
      "/home/damian/.local/lib/python3.8/site-packages/statsmodels/regression/mixed_linear_model.py:2206: ConvergenceWarning: MixedLM optimization failed, trying a different optimizer may help.\n",
      "  warnings.warn(msg, ConvergenceWarning)\n",
      "/home/damian/.local/lib/python3.8/site-packages/statsmodels/regression/mixed_linear_model.py:2218: ConvergenceWarning: Gradient optimization failed, |grad| = 5263.539635\n",
      "  warnings.warn(msg, ConvergenceWarning)\n",
      "/home/damian/.local/lib/python3.8/site-packages/statsmodels/regression/mixed_linear_model.py:2237: ConvergenceWarning: The MLE may be on the boundary of the parameter space.\n",
      "  warnings.warn(msg, ConvergenceWarning)\n"
     ]
    },
    {
     "name": "stdout",
     "output_type": "stream",
     "text": [
      "                   Mixed Linear Model Regression Results\n",
      "===========================================================================\n",
      "Model:              MixedLM   Dependent Variable:   comment_respectvol_Eens\n",
      "No. Observations:   42483     Method:               REML                   \n",
      "No. Groups:         1504      Scale:                0.1810                 \n",
      "Min. group size:    11        Log-Likelihood:       -25376.5604            \n",
      "Max. group size:    34        Converged:            No                     \n",
      "Mean group size:    28.2                                                   \n",
      "---------------------------------------------------------------------------\n",
      "                                 Coef.  Std.Err.   z    P>|z| [0.025 0.975]\n",
      "---------------------------------------------------------------------------\n",
      "Intercept                         0.625    0.029 21.751 0.000  0.569  0.681\n",
      "recoded_education[T.Lager]       -0.025    0.011 -2.331 0.020 -0.046 -0.004\n",
      "age                              -0.000    0.000 -0.046 0.964 -0.001  0.001\n",
      "male_dummy                        0.016    0.010  1.527 0.127 -0.005  0.036\n",
      "scale_importance                  0.006    0.006  1.095 0.273 -0.005  0.017\n",
      "scientific_consensus_pro_klimaat  0.007    0.005  1.415 0.157 -0.003  0.016\n",
      "Group Var                         0.037    0.008                           \n",
      "Group x tweet_id Cov             -0.000    0.000                           \n",
      "tweet_id Var                      0.000    0.000                           \n",
      "===========================================================================\n",
      "\n"
     ]
    }
   ],
   "source": [
    "# Fit a logistic mixed-effects regression model\n",
    "formula = 'comment_respectvol_Eens ~ age + male_dummy + recoded_education + scale_importance + scientific_consensus_pro_klimaat'\n",
    "model = smf.mixedlm(formula, df, groups=df['coder'], re_formula='1 + tweet_id')\n",
    "result = model.fit()\n",
    "\n",
    "# Display the model summary\n",
    "print(result.summary())"
   ]
  },
  {
   "cell_type": "code",
   "execution_count": null,
   "id": "fcea96e4",
   "metadata": {},
   "outputs": [],
   "source": []
  },
  {
   "cell_type": "code",
   "execution_count": null,
   "id": "58cdb4e2",
   "metadata": {},
   "outputs": [],
   "source": []
  }
 ],
 "metadata": {
  "kernelspec": {
   "display_name": "Python 3 (ipykernel)",
   "language": "python",
   "name": "python3"
  },
  "language_info": {
   "codemirror_mode": {
    "name": "ipython",
    "version": 3
   },
   "file_extension": ".py",
   "mimetype": "text/x-python",
   "name": "python",
   "nbconvert_exporter": "python",
   "pygments_lexer": "ipython3",
   "version": "3.8.10"
  }
 },
 "nbformat": 4,
 "nbformat_minor": 5
}
