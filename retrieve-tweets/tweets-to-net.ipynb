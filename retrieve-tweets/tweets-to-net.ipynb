{
 "cells": [
  {
   "cell_type": "markdown",
   "metadata": {},
   "source": [
    "# Tweets to Network (and then filtering)\n",
    "\n",
    "This notebook ingests the data as harvested by Anne, parses them, transforms them into a directed network such that there is an edge from a tweet to its reply (so, essentially the other way around as in the original data where replies point to their parent).\n",
    "\n",
    "```\n",
    "parent ---> child --> grandchild\n",
    "   |\n",
    "   |\n",
    "   V\n",
    " child      \n",
    "    \n",
    "````\n",
    "\n",
    "After that, retrieve only conversations between two people.\n",
    "Essentially:\n",
    "\n",
    "```\n",
    "Opening Post by user 1 ---> Reply by user 2 ---> reply by user 1 ... ---> ....\n",
    "```\n",
    "\n",
    "Or in Christel's words:\n",
    "\n",
    "```\n",
    "act --> interact --> double interact (--> double interact (--> double interact.....))\n",
    "```\n"
   ]
  },
  {
   "cell_type": "code",
   "execution_count": 59,
   "metadata": {},
   "outputs": [],
   "source": [
    "import igraph as ig\n",
    "import json\n",
    "import matplotlib.pyplot as plt\n",
    "\n",
    "from pprint import pprint\n",
    "from dataclasses import dataclass\n",
    "from ast import literal_eval\n",
    "from glob import glob\n",
    "from tqdm.auto import tqdm\n",
    "import re"
   ]
  },
  {
   "cell_type": "code",
   "execution_count": null,
   "metadata": {},
   "outputs": [],
   "source": []
  },
  {
   "cell_type": "code",
   "execution_count": 21,
   "metadata": {},
   "outputs": [
    {
     "data": {
      "application/vnd.jupyter.widget-view+json": {
       "model_id": "4c42c94437e64fceb0492b6bb28d0024",
       "version_major": 2,
       "version_minor": 0
      },
      "text/plain": [
       "HBox(children=(HTML(value=''), FloatProgress(value=0.0, max=383.0), HTML(value='')))"
      ]
     },
     "metadata": {},
     "output_type": "display_data"
    },
    {
     "name": "stdout",
     "output_type": "stream",
     "text": [
      "\n",
      "38277\n"
     ]
    }
   ],
   "source": [
    "data = []\n",
    "filenames = glob(\"../data/convos-climate-change-2021-2022/*.json\")\n",
    "for fn in tqdm(filenames):\n",
    "    with open(fn) as f:\n",
    "        data.extend(json.loads(literal_eval(f.read())))\n",
    "print(len(data))"
   ]
  },
  {
   "cell_type": "markdown",
   "metadata": {},
   "source": [
    "## Parse the JSON files "
   ]
  },
  {
   "cell_type": "code",
   "execution_count": 24,
   "metadata": {},
   "outputs": [],
   "source": [
    "def _parse_referenced(referenced_tweets):\n",
    "    '''get the ID of the parent tweet from the \"referenced tweets\" key '''\n",
    "    if type(referenced_tweets) is not list:\n",
    "        return None\n",
    "    for e in referenced_tweets:\n",
    "        if e['type'] == 'replied_to':\n",
    "            return e['id']\n",
    "\n",
    "def get_node(somedict):\n",
    "    datadict= somedict.get('data',None)\n",
    "    if datadict:\n",
    "        for tmp in datadict:\n",
    "            extracted = {\"text\": tmp.get('text', None),\n",
    "                         \"author_id\": tmp.get('author_id', None),\n",
    "                        \"tweet_id\": tmp.get('id', None),\n",
    "                        \"in_reply_to\": _parse_referenced(tmp.get('referenced_tweets',None))}\n",
    "            yield extracted\n",
    "    includedict = somedict.get('includes',None)\n",
    "    # de OP-tweets zitten niet per se in data, maar kunnen ook in includes zitten\n",
    "    if includedict:\n",
    "        for tmp in includedict.get('tweets',[]):\n",
    "            extracted = {\"text\": tmp.get('text', None),\n",
    "                         \"author_id\": tmp.get('author_id', None),\n",
    "                        \"tweet_id\": tmp.get('id', None),\n",
    "                        \"in_reply_to\": None}\n",
    "            yield extracted"
   ]
  },
  {
   "cell_type": "code",
   "execution_count": 25,
   "metadata": {},
   "outputs": [
    {
     "data": {
      "text/plain": [
       "147703"
      ]
     },
     "execution_count": 25,
     "metadata": {},
     "output_type": "execute_result"
    }
   ],
   "source": [
    "flat_list = [item for sublist in [list(get_node(e)) for e in data] for item in sublist]\n",
    "len(flat_list)"
   ]
  },
  {
   "cell_type": "code",
   "execution_count": 26,
   "metadata": {},
   "outputs": [
    {
     "name": "stdout",
     "output_type": "stream",
     "text": [
      "Creating nodes...\n"
     ]
    },
    {
     "data": {
      "application/vnd.jupyter.widget-view+json": {
       "model_id": "730b42b22a7a429a8313ccccd58f4451",
       "version_major": 2,
       "version_minor": 0
      },
      "text/plain": [
       "HBox(children=(HTML(value=''), FloatProgress(value=0.0, max=147703.0), HTML(value='')))"
      ]
     },
     "metadata": {},
     "output_type": "display_data"
    },
    {
     "name": "stdout",
     "output_type": "stream",
     "text": [
      "\n",
      "Creating edges...\n"
     ]
    },
    {
     "data": {
      "application/vnd.jupyter.widget-view+json": {
       "model_id": "f4672f6747744ba3aaa741d9c42f8290",
       "version_major": 2,
       "version_minor": 0
      },
      "text/plain": [
       "HBox(children=(HTML(value=''), FloatProgress(value=0.0, max=147703.0), HTML(value='')))"
      ]
     },
     "metadata": {},
     "output_type": "display_data"
    },
    {
     "name": "stdout",
     "output_type": "stream",
     "text": [
      "\n",
      "49605 98098\n"
     ]
    }
   ],
   "source": [
    "g = ig.Graph(directed=True)\n",
    "\n",
    "\n",
    "def _create_v_if_not_exists(g,v):\n",
    "    try:\n",
    "        _ = g.vs.find(v['tweet_id'])\n",
    "    except ValueError: # does not exist\n",
    "        g.add_vertex(v['tweet_id'], attributes=v)\n",
    "\n",
    "print(\"Creating nodes...\")\n",
    "for v in tqdm(flat_list):\n",
    "    _create_v_if_not_exists(g,v)\n",
    "\n",
    "print(\"Creating edges...\")\n",
    "errors, successes = 0, 0\n",
    "for v in tqdm(flat_list):\n",
    "    try:\n",
    "        g.add_edges([(v['in_reply_to'], v['tweet_id'])])\n",
    "        successes+=1\n",
    "    except:\n",
    "        errors+=1\n",
    "print(errors,successes)\n",
    "g.write_pickle(\"graph.pkl\")"
   ]
  },
  {
   "cell_type": "markdown",
   "metadata": {},
   "source": [
    "**dit is echt heel gek - voor 1/3 van de edges bestaat de parent dus niet in onze data**"
   ]
  },
  {
   "cell_type": "code",
   "execution_count": 2,
   "metadata": {},
   "outputs": [],
   "source": [
    "#g = ig.Graph.Read_Pickle('graph.pkl')"
   ]
  },
  {
   "cell_type": "markdown",
   "metadata": {},
   "source": [
    "## Analyzing the Graph"
   ]
  },
  {
   "cell_type": "code",
   "execution_count": 27,
   "metadata": {},
   "outputs": [
    {
     "name": "stdout",
     "output_type": "stream",
     "text": [
      "There are 14766 opeining posts (i.e., posts that have at least one outdegree but no indegree)\n"
     ]
    }
   ],
   "source": [
    "openingposts = g.vs.select(_outdegree_gt=0).select(_indegree_eq=0)\n",
    "print(f\"There are {len(openingposts)} opeining posts (i.e., posts that have at least one outdegree but no indegree)\")"
   ]
  },
  {
   "cell_type": "code",
   "execution_count": 28,
   "metadata": {},
   "outputs": [],
   "source": [
    "@dataclass\n",
    "class Tweet:\n",
    "    text: str\n",
    "    author: str\n",
    "\n",
    "class Dialogue:\n",
    "    def __init__(self, user1: str):\n",
    "        self.user1 = user1\n",
    "        self.chain = []\n",
    "    def add(self, tweet: Tweet):\n",
    "        self.chain.append(tweet)\n",
    "    \n"
   ]
  },
  {
   "cell_type": "code",
   "execution_count": 50,
   "metadata": {
    "scrolled": true
   },
   "outputs": [
    {
     "data": {
      "application/vnd.jupyter.widget-view+json": {
       "model_id": "884ba5df9a624ff8a2899dd2a1d2c2ce",
       "version_major": 2,
       "version_minor": 0
      },
      "text/plain": [
       "HBox(children=(HTML(value=''), FloatProgress(value=0.0, max=14766.0), HTML(value='')))"
      ]
     },
     "metadata": {},
     "output_type": "display_data"
    },
    {
     "name": "stdout",
     "output_type": "stream",
     "text": [
      "\n",
      "\n"
     ]
    }
   ],
   "source": [
    "def get_chain(graph, node, chain=None, is_op=True):\n",
    "    '''Based on a node in a network of tweets, recursively create a chain representing a dialogue \n",
    "    between two persons'''\n",
    "\n",
    "    # ONLY CONSIDER starting starting a new chain if it's an opening post\n",
    "    if chain==None and is_op:\n",
    "        chain = Dialogue(user1=node.attributes()['name']) \n",
    "        if node.attributes()['attributes']['in_reply_to'] is None:\n",
    "            chain.add(Tweet(text=node.attributes()['attributes']['text'],\n",
    "                        author=node.attributes()['attributes']['author_id']))\n",
    "    \n",
    "    \n",
    "    for childid in graph.neighbors(node, mode='out'):   \n",
    "        child = graph.vs[childid]\n",
    "        \n",
    "        if len(chain.chain)==1 and child.attributes()['attributes']['author_id'] != chain.chain[0].author:  #second post\n",
    "            chain.add(Tweet(text=child.attributes()['attributes']['text'],\n",
    "                        author=child.attributes()['attributes']['author_id']))\n",
    "        elif len(chain.chain)>1 and \\\n",
    "        (child.attributes()['attributes']['author_id'] == chain.chain[0].author or \\\n",
    "         child.attributes()['attributes']['author_id'] == chain.chain[1].author and \\\n",
    "         child.attributes()['attributes']['author_id'] != chain.chain[-1].author):  \n",
    "            # only if it's one of the first two participants\n",
    "            chain.add(Tweet(text=child.attributes()['attributes']['text'],\n",
    "            author=child.attributes()['attributes']['author_id']))\n",
    "        else:\n",
    "            #print(\"Skipping\")\n",
    "            pass\n",
    "            \n",
    "        # recursive functions to check for next child\n",
    "        grandchild = get_chain(graph, childid, chain, is_op=False)\n",
    "        if grandchild:\n",
    "            chain = grandchild\n",
    "        return chain\n",
    "#chains = [get_chain(g, node) for node in openingposts]\n",
    "chains = [get_chain(g, node).chain for node in tqdm(openingposts)]\n",
    "longchains = [c for c in chains if len(c)>5]"
   ]
  },
  {
   "cell_type": "code",
   "execution_count": 51,
   "metadata": {},
   "outputs": [
    {
     "name": "stdout",
     "output_type": "stream",
     "text": [
      "327\n"
     ]
    }
   ],
   "source": [
    "print(len(longchains))"
   ]
  },
  {
   "cell_type": "code",
   "execution_count": 90,
   "metadata": {},
   "outputs": [],
   "source": [
    "#for c in longchains:\n",
    "#    pprint(c)\n",
    "#    print()"
   ]
  },
  {
   "cell_type": "code",
   "execution_count": 58,
   "metadata": {},
   "outputs": [],
   "source": [
    "with open('gesprekken.txt', mode='w') as fo:\n",
    "    for c in longchains:\n",
    "        for i, tweet in enumerate(c):\n",
    "            fo.write(f\"{i}\\t{tweet.text}\\n\")\n",
    "        fo.write('\\n****************************\\n')"
   ]
  },
  {
   "cell_type": "code",
   "execution_count": 89,
   "metadata": {},
   "outputs": [],
   "source": [
    "with open('gesprekken_clean.txt', mode='w') as fo:\n",
    "    for c in longchains:\n",
    "        for i, tweet in enumerate(c):\n",
    "            cleantweet =  re.sub(r\"@.+?\\b\",\"@USER\",tweet.text).replace('\\n','    ')\n",
    "            cleantweet\n",
    "            fo.write(f\"{i}\\t{cleantweet}\\n\")\n",
    "        fo.write('\\n****************************\\n')"
   ]
  },
  {
   "cell_type": "code",
   "execution_count": null,
   "metadata": {},
   "outputs": [],
   "source": []
  }
 ],
 "metadata": {
  "kernelspec": {
   "display_name": "Python 3",
   "language": "python",
   "name": "python3"
  },
  "language_info": {
   "codemirror_mode": {
    "name": "ipython",
    "version": 3
   },
   "file_extension": ".py",
   "mimetype": "text/x-python",
   "name": "python",
   "nbconvert_exporter": "python",
   "pygments_lexer": "ipython3",
   "version": "3.8.10"
  }
 },
 "nbformat": 4,
 "nbformat_minor": 4
}
